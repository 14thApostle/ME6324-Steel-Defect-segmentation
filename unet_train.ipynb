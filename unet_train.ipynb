{
 "cells": [
  {
   "cell_type": "markdown",
   "metadata": {},
   "source": [
    "[![Open In Colab](https://colab.research.google.com/assets/colab-badge.svg)](https://colab.research.google.com/github/14thApostle/ME6324-Steel-Defect-segmentation/blob/main/unet_train.ipynb)"
   ]
  },
  {
   "cell_type": "code",
   "execution_count": 1,
   "metadata": {
    "_cell_guid": "79c7e3d0-c299-4dcb-8224-4455121ee9b0",
    "_uuid": "d629ff2d2480ee46fbb7e2d37f6b5fab8052498a",
    "execution": {
     "iopub.execute_input": "2021-07-05T05:15:51.051727Z",
     "iopub.status.busy": "2021-07-05T05:15:51.051374Z",
     "iopub.status.idle": "2021-07-05T05:15:53.792784Z",
     "shell.execute_reply": "2021-07-05T05:15:53.792032Z",
     "shell.execute_reply.started": "2021-07-05T05:15:51.051645Z"
    }
   },
   "outputs": [
    {
     "name": "stdout",
     "output_type": "stream",
     "text": [
      "Using device cuda:0\n"
     ]
    }
   ],
   "source": [
    "# Basic libs\n",
    "import os\n",
    "from os.path import join\n",
    "import cv2\n",
    "import pdb\n",
    "import time\n",
    "import warnings\n",
    "import random\n",
    "import numpy as np\n",
    "import pandas as pd\n",
    "from tqdm.notebook import tqdm\n",
    "from sklearn.model_selection import train_test_split\n",
    "\n",
    "# Torch stuff\n",
    "import torch\n",
    "import torch.nn as nn\n",
    "from torch.nn import functional as F\n",
    "import torch.optim as optim\n",
    "import torch.backends.cudnn as cudnn\n",
    "from torch.utils.data import DataLoader, Dataset, sampler\n",
    "from torch.optim.lr_scheduler import ReduceLROnPlateau\n",
    "\n",
    "# Augmentations and plotting\n",
    "from matplotlib import pyplot as plt\n",
    "from albumentations import (HorizontalFlip, ShiftScaleRotate, Normalize, Resize, Compose, GaussNoise, RandomBrightnessContrast)\n",
    "from albumentations.pytorch import ToTensor\n",
    "\n",
    "## Set random seeds\n",
    "seed = 6\n",
    "random.seed(seed)\n",
    "np.random.seed(seed)\n",
    "torch.manual_seed(seed)\n",
    "torch.cuda.manual_seed_all(seed)\n",
    "os.environ[\"PYTHONHASHSEED\"] = str(seed)\n",
    "torch.backends.cudnn.deterministic = True\n",
    "\n",
    "device = torch.device(\"cuda:0\" if torch.cuda.is_available() else \"cpu\")\n",
    "print(\"Using device\",device)"
   ]
  },
  {
   "cell_type": "code",
   "execution_count": 2,
   "metadata": {},
   "outputs": [],
   "source": [
    "data_folder = './severstal-steel-defect-detection'\n",
    "train_df_path = join(data_folder, 'train.csv')\n",
    "train_imgs_folder = join(data_folder, 'train_images')\n",
    "\n",
    "phases = ['train', 'val']\n",
    "mean=(0.485, 0.456, 0.406)\n",
    "std=(0.229, 0.224, 0.225)\n",
    "batch_size = 16\n",
    "num_workers = 4\n",
    "lr = 5e-4\n",
    "EPOCHS = 20"
   ]
  },
  {
   "cell_type": "markdown",
   "metadata": {},
   "source": [
    "## Helper functions\n",
    "\n",
    "For our given dataset, the masks are encoded as the masks are a very sparse representations and they are encoded to save space. Helper functions from https://www.kaggle.com/paulorzp/rle-functions-run-lenght-encode-decode are used"
   ]
  },
  {
   "cell_type": "code",
   "execution_count": 3,
   "metadata": {
    "execution": {
     "iopub.execute_input": "2021-07-05T05:15:54.637773Z",
     "iopub.status.busy": "2021-07-05T05:15:54.63745Z",
     "iopub.status.idle": "2021-07-05T05:15:54.649617Z",
     "shell.execute_reply": "2021-07-05T05:15:54.648505Z",
     "shell.execute_reply.started": "2021-07-05T05:15:54.637714Z"
    }
   },
   "outputs": [],
   "source": [
    "def mask2rle(img):\n",
    "    '''\n",
    "    img: numpy array, 1 -> mask, 0 -> background\n",
    "    Returns run length as string formated\n",
    "    '''\n",
    "    pixels= img.T.flatten()\n",
    "    pixels = np.concatenate([[0], pixels, [0]])\n",
    "    runs = np.where(pixels[1:] != pixels[:-1])[0] + 1\n",
    "    runs[1::2] -= runs[::2]\n",
    "    return ' '.join(str(x) for x in runs)\n",
    "\n",
    "def make_mask(row_id, df):\n",
    "    '''Given a row index, return image_id and mask (256, 1600, 4) from the dataframe `df`'''\n",
    "    fname = df.iloc[row_id].name\n",
    "    labels = df.iloc[row_id][:4]\n",
    "    masks = np.zeros((256, 1600, 4), dtype=np.float32) # float32 is V.Imp\n",
    "    # 4:class 1～4 (ch:0～3)\n",
    "\n",
    "    for idx, label in enumerate(labels.values):\n",
    "        if label is not np.nan:\n",
    "            label = label.split(\" \")\n",
    "            positions = map(int, label[0::2])\n",
    "            length = map(int, label[1::2])\n",
    "            mask = np.zeros(256 * 1600, dtype=np.uint8)\n",
    "            for pos, le in zip(positions, length):\n",
    "                mask[pos:(pos + le)] = 1\n",
    "            masks[:, :, idx] = mask.reshape(256, 1600, order='F')\n",
    "    return fname, masks"
   ]
  },
  {
   "cell_type": "markdown",
   "metadata": {},
   "source": [
    "## Dataloader"
   ]
  },
  {
   "cell_type": "code",
   "execution_count": 4,
   "metadata": {
    "execution": {
     "iopub.execute_input": "2021-07-05T05:17:55.681029Z",
     "iopub.status.busy": "2021-07-05T05:17:55.680717Z",
     "iopub.status.idle": "2021-07-05T05:17:55.698062Z",
     "shell.execute_reply": "2021-07-05T05:17:55.69701Z",
     "shell.execute_reply.started": "2021-07-05T05:17:55.680979Z"
    }
   },
   "outputs": [
    {
     "name": "stdout",
     "output_type": "stream",
     "text": [
      "{'train': <torch.utils.data.dataloader.DataLoader object at 0x000002E38D8FB1F0>, 'val': <torch.utils.data.dataloader.DataLoader object at 0x000002E3F98FD490>}\n"
     ]
    }
   ],
   "source": [
    "class SteelDataset(Dataset):\n",
    "    def __init__(self, df, data_folder, mean, std, phase):\n",
    "        self.df = df\n",
    "        self.root = data_folder\n",
    "        self.mean = mean\n",
    "        self.std = std\n",
    "        self.phase = phase\n",
    "        self.transforms = get_transforms(phase, mean, std)\n",
    "        self.fnames = self.df.index.tolist()\n",
    "\n",
    "    def __len__(self):\n",
    "        return len(self.fnames)\n",
    "\n",
    "    def __getitem__(self, idx):\n",
    "        image_id, mask = make_mask(idx, self.df)\n",
    "        image_path = join(train_imgs_folder,  image_id)\n",
    "        \n",
    "        img = cv2.imread(image_path)\n",
    "        augmented = self.transforms(image=img, mask=mask)\n",
    "        img = augmented['image']\n",
    "        mask = augmented['mask'] # 1x256x1600x4\n",
    "        mask = mask[0].permute(2, 0, 1) # 4x256x1600\n",
    "        return img, mask    \n",
    "\n",
    "def get_transforms(phase, mean, std):\n",
    "    transforms = []\n",
    "    if phase == \"train\":\n",
    "        transforms.extend(\n",
    "            [\n",
    "                HorizontalFlip(p=0.5), \n",
    "                RandomBrightnessContrast(p=0.5),\n",
    "                GaussNoise(),\n",
    "                ShiftScaleRotate(p=0.4),\n",
    "            ]\n",
    "        )\n",
    "    transforms.extend(\n",
    "        [\n",
    "            Normalize(mean=(0.485, 0.456, 0.406), std=(0.229, 0.224, 0.225)),\n",
    "            ToTensor(),\n",
    "        ]\n",
    "    )\n",
    "    transforms = Compose(transforms)\n",
    "    return transforms\n",
    "\n",
    "\n",
    "df = pd.read_csv(train_df_path)\n",
    "df['ClassId'] = df['ClassId'].astype(int)\n",
    "df = df.pivot(index='ImageId',columns='ClassId',values='EncodedPixels')\n",
    "df['defects'] = df.count(axis=1)\n",
    "\n",
    "train_df, val_df = train_test_split(df, test_size=0.2, stratify=df[\"defects\"], random_state=69)\n",
    "train_df.to_csv('train_1.csv')\n",
    "val_df.to_csv('val_1.csv')\n",
    "\n",
    "dataloaders = {}\n",
    "for phase in phases:\n",
    "    df = train_df if phase == \"train\" else val_df\n",
    "    image_dataset = SteelDataset(df, data_folder, mean, std, phase)\n",
    "    dataloader = DataLoader(\n",
    "        image_dataset,\n",
    "        batch_size=batch_size,\n",
    "        num_workers=num_workers,\n",
    "        pin_memory=True,\n",
    "        shuffle=True,   \n",
    "        drop_last = True,        \n",
    "    )\n",
    "    dataloaders[phase] = dataloader\n",
    "\n",
    "print(dataloaders)\n"
   ]
  },
  {
   "cell_type": "markdown",
   "metadata": {},
   "source": [
    "## Utility functions\n",
    "\n",
    "Dice and IoU metric implementations, metric logger for training and validation."
   ]
  },
  {
   "cell_type": "code",
   "execution_count": 5,
   "metadata": {
    "execution": {
     "iopub.execute_input": "2021-07-05T05:17:56.610399Z",
     "iopub.status.busy": "2021-07-05T05:17:56.610101Z",
     "iopub.status.idle": "2021-07-05T05:17:56.636739Z",
     "shell.execute_reply": "2021-07-05T05:17:56.635443Z",
     "shell.execute_reply.started": "2021-07-05T05:17:56.610348Z"
    }
   },
   "outputs": [],
   "source": [
    "def predict(X, threshold):\n",
    "    X_p = np.copy(X)\n",
    "    return (X_p > threshold).astype('uint8')\n",
    "\n",
    "def metric(probability, truth, threshold=0.5, reduction='none'):\n",
    "    batch_size = len(truth)\n",
    "    with torch.no_grad():\n",
    "        probability = probability.view(batch_size, -1)\n",
    "        truth = truth.view(batch_size, -1)\n",
    "        assert(probability.shape == truth.shape)\n",
    "\n",
    "        p = (probability > threshold).float()\n",
    "        t = (truth > 0.5).float()\n",
    "\n",
    "        p_sum = p.sum(-1)\n",
    "        t_sum = t.sum(-1)\n",
    "        \n",
    "        pos_index = torch.nonzero(t_sum >= 1)\n",
    "        dice_pos = 2 * (p*t).sum(-1)/((p+t).sum(-1))\n",
    "        dice_pos = dice_pos[pos_index]\n",
    "        dice = torch.cat([dice_pos])\n",
    "\n",
    "        num_pos = len(pos_index)\n",
    "\n",
    "    return dice, dice_pos, num_pos\n",
    "\n",
    "class Meter:\n",
    "    '''A meter to keep track of iou and dice scores throughout an epoch'''\n",
    "    def __init__(self, phase, epoch):\n",
    "        self.base_threshold = 0.5 \n",
    "        self.base_dice_scores = []\n",
    "        self.dice_pos_scores = []\n",
    "        self.iou_scores = []\n",
    "\n",
    "    def update(self, targets, outputs):\n",
    "        probs = torch.sigmoid(outputs)\n",
    "        dice, dice_pos, _ = metric(probs, targets, self.base_threshold)\n",
    "        self.base_dice_scores.extend(dice.tolist())\n",
    "        self.dice_pos_scores.extend(dice_pos.tolist())\n",
    "        preds = predict(probs, self.base_threshold)\n",
    "        iou = compute_iou_batch(preds, targets, classes=[1])\n",
    "        self.iou_scores.append(iou)\n",
    "\n",
    "    def get_metrics(self):\n",
    "        dice = np.nanmean(self.base_dice_scores)\n",
    "        dice_pos = np.nanmean(self.dice_pos_scores)\n",
    "        dices = [dice, dice_pos]\n",
    "        iou = np.nanmean(self.iou_scores)\n",
    "        return dices, iou\n",
    "\n",
    "def epoch_log(phase, epoch, epoch_loss, meter, start):\n",
    "    '''logging the metrics at the end of an epoch'''\n",
    "    dices, iou = meter.get_metrics()\n",
    "    dice, dice_pos = dices\n",
    "    print(\"Loss: %0.4f | IoU: %0.4f | dice: %0.4f | dice_pos: %0.4f\" % (epoch_loss, iou, dice, dice_pos))\n",
    "    return dice, iou\n",
    "\n",
    "def compute_ious(pred, label, classes, ignore_index=255, only_present=True):\n",
    "    '''computes iou for one ground truth mask and predicted mask'''\n",
    "    pred[label == ignore_index] = 0\n",
    "    ious = []\n",
    "    for c in classes:\n",
    "        label_c = label == c\n",
    "        if only_present and np.sum(label_c) == 0:\n",
    "            ious.append(np.nan)\n",
    "            continue\n",
    "        pred_c = pred == c\n",
    "        intersection = np.logical_and(pred_c, label_c).sum()\n",
    "        union = np.logical_or(pred_c, label_c).sum()\n",
    "        if union != 0:\n",
    "            ious.append(intersection / union)\n",
    "    return ious if ious else [1]\n",
    "\n",
    "def compute_iou_batch(outputs, labels, classes=None):\n",
    "    '''computes mean iou for a batch of ground truth masks and predicted masks'''\n",
    "    ious = []\n",
    "    preds = np.copy(outputs) \n",
    "    labels = np.array(labels)\n",
    "    for pred, label in zip(preds, labels):\n",
    "        ious.append(np.nanmean(compute_ious(pred, label, classes)))\n",
    "    iou = np.nanmean(ious)\n",
    "    return iou\n"
   ]
  },
  {
   "cell_type": "markdown",
   "metadata": {},
   "source": [
    "## Model Initialization"
   ]
  },
  {
   "cell_type": "code",
   "execution_count": 12,
   "metadata": {
    "execution": {
     "iopub.execute_input": "2021-07-05T05:17:59.23453Z",
     "iopub.status.busy": "2021-07-05T05:17:59.234261Z",
     "iopub.status.idle": "2021-07-05T05:17:59.399211Z",
     "shell.execute_reply": "2021-07-05T05:17:59.398364Z",
     "shell.execute_reply.started": "2021-07-05T05:17:59.234476Z"
    }
   },
   "outputs": [],
   "source": [
    "from segmentation_models_pytorch import Unet\n",
    "model = Unet(\"resnet18\", encoder_weights=\"imagenet\", classes=4, activation=None)\n",
    "model = model.to(device)\n",
    "\n",
    "criterion = torch.nn.BCEWithLogitsLoss()\n",
    "optimizer = optim.Adam(model.parameters(), lr=lr)\n",
    "scheduler = ReduceLROnPlateau(optimizer, mode=\"min\", patience=3, verbose=True)"
   ]
  },
  {
   "cell_type": "markdown",
   "metadata": {},
   "source": [
    "### Training and Validation"
   ]
  },
  {
   "cell_type": "code",
   "execution_count": 13,
   "metadata": {
    "execution": {
     "iopub.execute_input": "2021-07-05T05:18:00.798627Z",
     "iopub.status.busy": "2021-07-05T05:18:00.798331Z",
     "iopub.status.idle": "2021-07-05T05:18:00.825911Z",
     "shell.execute_reply": "2021-07-05T05:18:00.824728Z",
     "shell.execute_reply.started": "2021-07-05T05:18:00.798577Z"
    }
   },
   "outputs": [],
   "source": [
    "class Trainer(object):\n",
    "    '''This class takes care of training and validation of our model'''\n",
    "    def __init__(self, model, dataloaders):\n",
    "        self.num_workers = num_workers\n",
    "        self.batch_size = {\"train\": batch_size, \"val\": batch_size}\n",
    "        self.accumulation_steps = batch_size // self.batch_size['train']\n",
    "        self.lr = lr\n",
    "        self.num_epochs = EPOCHS\n",
    "        \n",
    "        self.best_loss = float(\"inf\")\n",
    "        self.phases = phases\n",
    "        self.device = device\n",
    "\n",
    "        if device == \"cuda:0\":\n",
    "            torch.set_default_tensor_type(\"torch.cuda.FloatTensor\")\n",
    "        else:\n",
    "            torch.set_default_tensor_type(\"torch.FloatTensor\")\n",
    "        \n",
    "        self.net = model\n",
    "        self.criterion = criterion\n",
    "        self.optimizer = optimizer\n",
    "        self.scheduler = scheduler\n",
    "        self.dataloaders = dataloaders\n",
    "        \n",
    "        self.losses = {phase: [] for phase in self.phases}\n",
    "        self.iou_scores = {phase: [] for phase in self.phases}\n",
    "        self.dice_scores = {phase: [] for phase in self.phases}\n",
    "        \n",
    "    def forward(self, images, targets):\n",
    "        images = images.to(self.device)\n",
    "        masks = targets.to(self.device)\n",
    "        #  Get pred and loss\n",
    "        outputs = self.net(images)\n",
    "        loss = self.criterion(outputs, masks)\n",
    "        return loss, outputs\n",
    "\n",
    "    def iterate(self, epoch, phase):\n",
    "        meter = Meter(phase, epoch)\n",
    "        start = time.strftime(\"%H:%M:%S\")\n",
    "        print(f\"Starting epoch: {epoch} | phase: {phase} | ⏰: {start}\")\n",
    "\n",
    "        if phase == \"train\":\n",
    "            self.net.train()\n",
    "        else:\n",
    "            self.net.eval()\n",
    "\n",
    "        dataloader = self.dataloaders[phase]\n",
    "        running_loss = 0.0\n",
    "        total_batches = len(dataloader)\n",
    "        dataloader1 = tqdm(dataloader, total=total_batches)\n",
    "        self.optimizer.zero_grad()\n",
    "        \n",
    "        for itr, batch in enumerate(dataloader1): # replace `dataloader` with `tk0` for tqdm\n",
    "            images, targets = batch\n",
    "            loss, outputs = self.forward(images, targets)\n",
    "            if phase == \"train\":\n",
    "                loss.backward()\n",
    "                self.optimizer.step()\n",
    "                self.optimizer.zero_grad()\n",
    "\n",
    "            running_loss += loss.item()\n",
    "            outputs = outputs.detach().cpu()\n",
    "            meter.update(targets, outputs)\n",
    "            dataloader1.set_postfix(loss=(running_loss / ((itr + 1))))\n",
    "        \n",
    "        epoch_loss = (running_loss * self.accumulation_steps) / total_batches\n",
    "        dice, iou = epoch_log(phase, epoch, epoch_loss, meter, start)\n",
    "\n",
    "        self.losses[phase].append(epoch_loss)\n",
    "        self.dice_scores[phase].append(dice)\n",
    "        self.iou_scores[phase].append(iou)\n",
    "\n",
    "        torch.cuda.empty_cache()\n",
    "        return epoch_loss\n",
    "\n",
    "    def start(self):\n",
    "        for epoch in range(self.num_epochs):\n",
    "            self.iterate(epoch, \"train\")\n",
    "            state = {\n",
    "                \"epoch\": epoch,\n",
    "                \"best_loss\": self.best_loss,\n",
    "                \"state_dict\": self.net.state_dict(),\n",
    "                \"optimizer\": self.optimizer.state_dict(),\n",
    "            }\n",
    "            with torch.no_grad():\n",
    "                val_loss = self.iterate(epoch, \"val\")\n",
    "                self.scheduler.step(val_loss)\n",
    "            if val_loss < self.best_loss:\n",
    "                print(\"******** New optimal found, saving state ********\")\n",
    "                state[\"best_loss\"] = self.best_loss = val_loss\n",
    "                torch.save(state, \"./best_model.pth\")\n",
    "            print()\n"
   ]
  },
  {
   "cell_type": "code",
   "execution_count": null,
   "metadata": {},
   "outputs": [
    {
     "name": "stderr",
     "output_type": "stream",
     "text": [
      "  0%|          | 0/334 [00:00<?, ?it/s]"
     ]
    },
    {
     "name": "stdout",
     "output_type": "stream",
     "text": [
      "Starting epoch: 0 | phase: train | ⏰: 13:55:20\n"
     ]
    },
    {
     "name": "stderr",
     "output_type": "stream",
     "text": [
      "100%|██████████| 334/334 [08:32<00:00,  1.53s/it]\n",
      "  0%|          | 0/84 [00:00<?, ?it/s]"
     ]
    },
    {
     "name": "stdout",
     "output_type": "stream",
     "text": [
      "Loss: 0.1409 | IoU: 0.2656 | dice: 0.3569 | dice_neg: nan | dice_pos: 0.3569\n",
      "Starting epoch: 0 | phase: val | ⏰: 14:03:53\n"
     ]
    },
    {
     "name": "stderr",
     "output_type": "stream",
     "text": [
      "100%|██████████| 84/84 [00:59<00:00,  1.41it/s]\n"
     ]
    },
    {
     "name": "stdout",
     "output_type": "stream",
     "text": [
      "Loss: 0.0357 | IoU: 0.3020 | dice: 0.4048 | dice_neg: nan | dice_pos: 0.4048\n",
      "******** New optimal found, saving state ********\n"
     ]
    },
    {
     "name": "stderr",
     "output_type": "stream",
     "text": [
      "  0%|          | 0/334 [00:00<?, ?it/s]"
     ]
    },
    {
     "name": "stdout",
     "output_type": "stream",
     "text": [
      "\n",
      "Starting epoch: 1 | phase: train | ⏰: 14:04:53\n"
     ]
    },
    {
     "name": "stderr",
     "output_type": "stream",
     "text": [
      "100%|██████████| 334/334 [08:17<00:00,  1.49s/it]\n",
      "  0%|          | 0/84 [00:00<?, ?it/s]"
     ]
    },
    {
     "name": "stdout",
     "output_type": "stream",
     "text": [
      "Loss: 0.0314 | IoU: 0.3708 | dice: 0.4812 | dice_neg: nan | dice_pos: 0.4812\n",
      "Starting epoch: 1 | phase: val | ⏰: 14:13:10\n"
     ]
    },
    {
     "name": "stderr",
     "output_type": "stream",
     "text": [
      "100%|██████████| 84/84 [00:56<00:00,  1.48it/s]\n"
     ]
    },
    {
     "name": "stdout",
     "output_type": "stream",
     "text": [
      "Loss: 0.0296 | IoU: 0.2990 | dice: 0.3917 | dice_neg: nan | dice_pos: 0.3917\n",
      "******** New optimal found, saving state ********\n"
     ]
    },
    {
     "name": "stderr",
     "output_type": "stream",
     "text": [
      "  0%|          | 0/334 [00:00<?, ?it/s]"
     ]
    },
    {
     "name": "stdout",
     "output_type": "stream",
     "text": [
      "\n",
      "Starting epoch: 2 | phase: train | ⏰: 14:14:07\n"
     ]
    },
    {
     "name": "stderr",
     "output_type": "stream",
     "text": [
      "100%|██████████| 334/334 [07:57<00:00,  1.43s/it]\n",
      "  0%|          | 0/84 [00:00<?, ?it/s]"
     ]
    },
    {
     "name": "stdout",
     "output_type": "stream",
     "text": [
      "Loss: 0.0269 | IoU: 0.3943 | dice: 0.5030 | dice_neg: nan | dice_pos: 0.5030\n",
      "Starting epoch: 2 | phase: val | ⏰: 14:22:04\n"
     ]
    },
    {
     "name": "stderr",
     "output_type": "stream",
     "text": [
      "100%|██████████| 84/84 [00:58<00:00,  1.44it/s]\n"
     ]
    },
    {
     "name": "stdout",
     "output_type": "stream",
     "text": [
      "Loss: 0.0236 | IoU: 0.4358 | dice: 0.5434 | dice_neg: nan | dice_pos: 0.5434\n",
      "******** New optimal found, saving state ********\n"
     ]
    },
    {
     "name": "stderr",
     "output_type": "stream",
     "text": [
      "  0%|          | 0/334 [00:00<?, ?it/s]"
     ]
    },
    {
     "name": "stdout",
     "output_type": "stream",
     "text": [
      "\n",
      "Starting epoch: 3 | phase: train | ⏰: 14:23:03\n"
     ]
    },
    {
     "name": "stderr",
     "output_type": "stream",
     "text": [
      "100%|██████████| 334/334 [08:16<00:00,  1.49s/it]\n",
      "  0%|          | 0/84 [00:00<?, ?it/s]"
     ]
    },
    {
     "name": "stdout",
     "output_type": "stream",
     "text": [
      "Loss: 0.0247 | IoU: 0.4114 | dice: 0.5194 | dice_neg: nan | dice_pos: 0.5194\n",
      "Starting epoch: 3 | phase: val | ⏰: 14:31:20\n"
     ]
    },
    {
     "name": "stderr",
     "output_type": "stream",
     "text": [
      "100%|██████████| 84/84 [01:02<00:00,  1.35it/s]\n",
      "  0%|          | 0/334 [00:00<?, ?it/s]"
     ]
    },
    {
     "name": "stdout",
     "output_type": "stream",
     "text": [
      "Loss: 0.0276 | IoU: 0.3985 | dice: 0.5032 | dice_neg: nan | dice_pos: 0.5032\n",
      "\n",
      "Starting epoch: 4 | phase: train | ⏰: 14:32:22\n"
     ]
    },
    {
     "name": "stderr",
     "output_type": "stream",
     "text": [
      "100%|██████████| 334/334 [08:18<00:00,  1.49s/it]\n",
      "  0%|          | 0/84 [00:00<?, ?it/s]"
     ]
    },
    {
     "name": "stdout",
     "output_type": "stream",
     "text": [
      "Loss: 0.0229 | IoU: 0.4329 | dice: 0.5409 | dice_neg: nan | dice_pos: 0.5409\n",
      "Starting epoch: 4 | phase: val | ⏰: 14:40:41\n"
     ]
    },
    {
     "name": "stderr",
     "output_type": "stream",
     "text": [
      "100%|██████████| 84/84 [00:58<00:00,  1.44it/s]\n"
     ]
    },
    {
     "name": "stdout",
     "output_type": "stream",
     "text": [
      "Loss: 0.0229 | IoU: 0.3752 | dice: 0.4709 | dice_neg: nan | dice_pos: 0.4709\n",
      "******** New optimal found, saving state ********\n"
     ]
    },
    {
     "name": "stderr",
     "output_type": "stream",
     "text": [
      "  0%|          | 0/334 [00:00<?, ?it/s]"
     ]
    },
    {
     "name": "stdout",
     "output_type": "stream",
     "text": [
      "\n",
      "Starting epoch: 5 | phase: train | ⏰: 14:41:39\n"
     ]
    },
    {
     "name": "stderr",
     "output_type": "stream",
     "text": [
      "100%|██████████| 334/334 [08:09<00:00,  1.47s/it]\n",
      "  0%|          | 0/84 [00:00<?, ?it/s]"
     ]
    },
    {
     "name": "stdout",
     "output_type": "stream",
     "text": [
      "Loss: 0.0227 | IoU: 0.4309 | dice: 0.5387 | dice_neg: nan | dice_pos: 0.5387\n",
      "Starting epoch: 5 | phase: val | ⏰: 14:49:49\n"
     ]
    },
    {
     "name": "stderr",
     "output_type": "stream",
     "text": [
      "100%|██████████| 84/84 [00:57<00:00,  1.46it/s]\n"
     ]
    },
    {
     "name": "stdout",
     "output_type": "stream",
     "text": [
      "Loss: 0.0227 | IoU: 0.4019 | dice: 0.5080 | dice_neg: nan | dice_pos: 0.5080\n",
      "******** New optimal found, saving state ********\n"
     ]
    },
    {
     "name": "stderr",
     "output_type": "stream",
     "text": [
      "  0%|          | 0/334 [00:00<?, ?it/s]"
     ]
    },
    {
     "name": "stdout",
     "output_type": "stream",
     "text": [
      "\n",
      "Starting epoch: 6 | phase: train | ⏰: 14:50:47\n"
     ]
    },
    {
     "name": "stderr",
     "output_type": "stream",
     "text": [
      "100%|██████████| 334/334 [08:14<00:00,  1.48s/it]\n",
      "  0%|          | 0/84 [00:00<?, ?it/s]"
     ]
    },
    {
     "name": "stdout",
     "output_type": "stream",
     "text": [
      "Loss: 0.0215 | IoU: 0.4399 | dice: 0.5473 | dice_neg: nan | dice_pos: 0.5473\n",
      "Starting epoch: 6 | phase: val | ⏰: 14:59:01\n"
     ]
    },
    {
     "name": "stderr",
     "output_type": "stream",
     "text": [
      "100%|██████████| 84/84 [00:58<00:00,  1.44it/s]\n",
      "  0%|          | 0/334 [00:00<?, ?it/s]"
     ]
    },
    {
     "name": "stdout",
     "output_type": "stream",
     "text": [
      "Loss: 0.0255 | IoU: 0.4268 | dice: 0.5338 | dice_neg: nan | dice_pos: 0.5338\n",
      "\n",
      "Starting epoch: 7 | phase: train | ⏰: 15:00:00\n"
     ]
    },
    {
     "name": "stderr",
     "output_type": "stream",
     "text": [
      "100%|██████████| 334/334 [08:18<00:00,  1.49s/it]\n",
      "  0%|          | 0/84 [00:00<?, ?it/s]"
     ]
    },
    {
     "name": "stdout",
     "output_type": "stream",
     "text": [
      "Loss: 0.0203 | IoU: 0.4552 | dice: 0.5625 | dice_neg: nan | dice_pos: 0.5625\n",
      "Starting epoch: 7 | phase: val | ⏰: 15:08:18\n"
     ]
    },
    {
     "name": "stderr",
     "output_type": "stream",
     "text": [
      "100%|██████████| 84/84 [00:58<00:00,  1.44it/s]\n"
     ]
    },
    {
     "name": "stdout",
     "output_type": "stream",
     "text": [
      "Loss: 0.0210 | IoU: 0.4344 | dice: 0.5404 | dice_neg: nan | dice_pos: 0.5404\n",
      "******** New optimal found, saving state ********\n"
     ]
    },
    {
     "name": "stderr",
     "output_type": "stream",
     "text": [
      "  0%|          | 0/334 [00:00<?, ?it/s]"
     ]
    },
    {
     "name": "stdout",
     "output_type": "stream",
     "text": [
      "\n",
      "Starting epoch: 8 | phase: train | ⏰: 15:09:17\n"
     ]
    },
    {
     "name": "stderr",
     "output_type": "stream",
     "text": [
      "100%|██████████| 334/334 [08:18<00:00,  1.49s/it]\n",
      "  0%|          | 0/84 [00:00<?, ?it/s]"
     ]
    },
    {
     "name": "stdout",
     "output_type": "stream",
     "text": [
      "Loss: 0.0193 | IoU: 0.4645 | dice: 0.5717 | dice_neg: nan | dice_pos: 0.5717\n",
      "Starting epoch: 8 | phase: val | ⏰: 15:17:36\n"
     ]
    },
    {
     "name": "stderr",
     "output_type": "stream",
     "text": [
      "100%|██████████| 84/84 [00:57<00:00,  1.46it/s]\n",
      "  0%|          | 0/334 [00:00<?, ?it/s]"
     ]
    },
    {
     "name": "stdout",
     "output_type": "stream",
     "text": [
      "Loss: 0.0217 | IoU: 0.4605 | dice: 0.5642 | dice_neg: nan | dice_pos: 0.5642\n",
      "\n",
      "Starting epoch: 9 | phase: train | ⏰: 15:18:33\n"
     ]
    },
    {
     "name": "stderr",
     "output_type": "stream",
     "text": [
      "100%|██████████| 334/334 [08:17<00:00,  1.49s/it]\n",
      "  0%|          | 0/84 [00:00<?, ?it/s]"
     ]
    },
    {
     "name": "stdout",
     "output_type": "stream",
     "text": [
      "Loss: 0.0187 | IoU: 0.4717 | dice: 0.5779 | dice_neg: nan | dice_pos: 0.5779\n",
      "Starting epoch: 9 | phase: val | ⏰: 15:26:51\n"
     ]
    },
    {
     "name": "stderr",
     "output_type": "stream",
     "text": [
      "100%|██████████| 84/84 [01:01<00:00,  1.36it/s]\n",
      "  0%|          | 0/334 [00:00<?, ?it/s]"
     ]
    },
    {
     "name": "stdout",
     "output_type": "stream",
     "text": [
      "Loss: 0.0216 | IoU: 0.4234 | dice: 0.5291 | dice_neg: nan | dice_pos: 0.5291\n",
      "\n",
      "Starting epoch: 10 | phase: train | ⏰: 15:27:52\n"
     ]
    },
    {
     "name": "stderr",
     "output_type": "stream",
     "text": [
      "100%|██████████| 334/334 [08:06<00:00,  1.46s/it]\n",
      "  0%|          | 0/84 [00:00<?, ?it/s]"
     ]
    },
    {
     "name": "stdout",
     "output_type": "stream",
     "text": [
      "Loss: 0.0181 | IoU: 0.4797 | dice: 0.5873 | dice_neg: nan | dice_pos: 0.5873\n",
      "Starting epoch: 10 | phase: val | ⏰: 15:35:59\n"
     ]
    },
    {
     "name": "stderr",
     "output_type": "stream",
     "text": [
      "100%|██████████| 84/84 [01:01<00:00,  1.36it/s]\n"
     ]
    },
    {
     "name": "stdout",
     "output_type": "stream",
     "text": [
      "Loss: 0.0196 | IoU: 0.4777 | dice: 0.5954 | dice_neg: nan | dice_pos: 0.5954\n",
      "******** New optimal found, saving state ********\n"
     ]
    },
    {
     "name": "stderr",
     "output_type": "stream",
     "text": [
      "  0%|          | 0/334 [00:00<?, ?it/s]"
     ]
    },
    {
     "name": "stdout",
     "output_type": "stream",
     "text": [
      "\n",
      "Starting epoch: 11 | phase: train | ⏰: 15:37:01\n"
     ]
    },
    {
     "name": "stderr",
     "output_type": "stream",
     "text": [
      "100%|██████████| 334/334 [08:05<00:00,  1.46s/it]\n",
      "  0%|          | 0/84 [00:00<?, ?it/s]"
     ]
    },
    {
     "name": "stdout",
     "output_type": "stream",
     "text": [
      "Loss: 0.0175 | IoU: 0.5049 | dice: 0.6208 | dice_neg: nan | dice_pos: 0.6208\n",
      "Starting epoch: 11 | phase: val | ⏰: 15:45:07\n"
     ]
    },
    {
     "name": "stderr",
     "output_type": "stream",
     "text": [
      "100%|██████████| 84/84 [00:56<00:00,  1.47it/s]\n"
     ]
    },
    {
     "name": "stdout",
     "output_type": "stream",
     "text": [
      "Loss: 0.0194 | IoU: 0.5100 | dice: 0.6258 | dice_neg: nan | dice_pos: 0.6258\n",
      "******** New optimal found, saving state ********\n"
     ]
    },
    {
     "name": "stderr",
     "output_type": "stream",
     "text": [
      "  0%|          | 0/334 [00:00<?, ?it/s]"
     ]
    },
    {
     "name": "stdout",
     "output_type": "stream",
     "text": [
      "\n",
      "Starting epoch: 12 | phase: train | ⏰: 15:46:05\n"
     ]
    },
    {
     "name": "stderr",
     "output_type": "stream",
     "text": [
      "100%|██████████| 334/334 [08:14<00:00,  1.48s/it]\n",
      "  0%|          | 0/84 [00:00<?, ?it/s]"
     ]
    },
    {
     "name": "stdout",
     "output_type": "stream",
     "text": [
      "Loss: 0.0183 | IoU: 0.5139 | dice: 0.6321 | dice_neg: nan | dice_pos: 0.6321\n",
      "Starting epoch: 12 | phase: val | ⏰: 15:54:20\n"
     ]
    },
    {
     "name": "stderr",
     "output_type": "stream",
     "text": [
      "100%|██████████| 84/84 [00:57<00:00,  1.45it/s]\n",
      "  0%|          | 0/334 [00:00<?, ?it/s]"
     ]
    },
    {
     "name": "stdout",
     "output_type": "stream",
     "text": [
      "Loss: 0.0233 | IoU: 0.3823 | dice: 0.5080 | dice_neg: nan | dice_pos: 0.5080\n",
      "\n",
      "Starting epoch: 13 | phase: train | ⏰: 15:55:17\n"
     ]
    },
    {
     "name": "stderr",
     "output_type": "stream",
     "text": [
      "100%|██████████| 334/334 [08:01<00:00,  1.44s/it]\n",
      "  0%|          | 0/84 [00:00<?, ?it/s]"
     ]
    },
    {
     "name": "stdout",
     "output_type": "stream",
     "text": [
      "Loss: 0.0166 | IoU: 0.5312 | dice: 0.6501 | dice_neg: nan | dice_pos: 0.6501\n",
      "Starting epoch: 13 | phase: val | ⏰: 16:03:19\n"
     ]
    },
    {
     "name": "stderr",
     "output_type": "stream",
     "text": [
      "100%|██████████| 84/84 [00:56<00:00,  1.49it/s]\n",
      "  0%|          | 0/334 [00:00<?, ?it/s]"
     ]
    },
    {
     "name": "stdout",
     "output_type": "stream",
     "text": [
      "Loss: 0.0202 | IoU: 0.4877 | dice: 0.6063 | dice_neg: nan | dice_pos: 0.6063\n",
      "\n",
      "Starting epoch: 14 | phase: train | ⏰: 16:04:15\n"
     ]
    },
    {
     "name": "stderr",
     "output_type": "stream",
     "text": [
      "100%|██████████| 334/334 [08:09<00:00,  1.47s/it]\n",
      "  0%|          | 0/84 [00:00<?, ?it/s]"
     ]
    },
    {
     "name": "stdout",
     "output_type": "stream",
     "text": [
      "Loss: 0.0157 | IoU: 0.5447 | dice: 0.6641 | dice_neg: nan | dice_pos: 0.6641\n",
      "Starting epoch: 14 | phase: val | ⏰: 16:12:25\n"
     ]
    },
    {
     "name": "stderr",
     "output_type": "stream",
     "text": [
      "100%|██████████| 84/84 [00:57<00:00,  1.46it/s]\n",
      "  0%|          | 0/334 [00:00<?, ?it/s]"
     ]
    },
    {
     "name": "stdout",
     "output_type": "stream",
     "text": [
      "Loss: 0.0202 | IoU: 0.5035 | dice: 0.6226 | dice_neg: nan | dice_pos: 0.6226\n",
      "\n",
      "Starting epoch: 15 | phase: train | ⏰: 16:13:22\n"
     ]
    },
    {
     "name": "stderr",
     "output_type": "stream",
     "text": [
      "100%|██████████| 334/334 [08:05<00:00,  1.45s/it]\n",
      "  0%|          | 0/84 [00:00<?, ?it/s]"
     ]
    },
    {
     "name": "stdout",
     "output_type": "stream",
     "text": [
      "Loss: 0.0151 | IoU: 0.5585 | dice: 0.6778 | dice_neg: nan | dice_pos: 0.6778\n",
      "Starting epoch: 15 | phase: val | ⏰: 16:21:28\n"
     ]
    },
    {
     "name": "stderr",
     "output_type": "stream",
     "text": [
      "100%|██████████| 84/84 [01:01<00:00,  1.37it/s]\n",
      "  0%|          | 0/334 [00:00<?, ?it/s]"
     ]
    },
    {
     "name": "stdout",
     "output_type": "stream",
     "text": [
      "Loss: 0.0209 | IoU: 0.5021 | dice: 0.6220 | dice_neg: nan | dice_pos: 0.6220\n",
      "Epoch    16: reducing learning rate of group 0 to 5.0000e-05.\n",
      "\n",
      "Starting epoch: 16 | phase: train | ⏰: 16:22:30\n"
     ]
    },
    {
     "name": "stderr",
     "output_type": "stream",
     "text": [
      "100%|██████████| 334/334 [08:16<00:00,  1.49s/it]\n",
      "  0%|          | 0/84 [00:00<?, ?it/s]"
     ]
    },
    {
     "name": "stdout",
     "output_type": "stream",
     "text": [
      "Loss: 0.0127 | IoU: 0.6009 | dice: 0.7176 | dice_neg: nan | dice_pos: 0.7176\n",
      "Starting epoch: 16 | phase: val | ⏰: 16:30:46\n"
     ]
    },
    {
     "name": "stderr",
     "output_type": "stream",
     "text": [
      "100%|██████████| 84/84 [00:57<00:00,  1.46it/s]\n"
     ]
    },
    {
     "name": "stdout",
     "output_type": "stream",
     "text": [
      "Loss: 0.0181 | IoU: 0.5496 | dice: 0.6706 | dice_neg: nan | dice_pos: 0.6706\n",
      "******** New optimal found, saving state ********\n"
     ]
    },
    {
     "name": "stderr",
     "output_type": "stream",
     "text": [
      "  0%|          | 0/334 [00:00<?, ?it/s]"
     ]
    },
    {
     "name": "stdout",
     "output_type": "stream",
     "text": [
      "\n",
      "Starting epoch: 17 | phase: train | ⏰: 16:31:44\n"
     ]
    },
    {
     "name": "stderr",
     "output_type": "stream",
     "text": [
      "100%|██████████| 334/334 [08:16<00:00,  1.49s/it]\n",
      "  0%|          | 0/84 [00:00<?, ?it/s]"
     ]
    },
    {
     "name": "stdout",
     "output_type": "stream",
     "text": [
      "Loss: 0.0120 | IoU: 0.6139 | dice: 0.7283 | dice_neg: nan | dice_pos: 0.7283\n",
      "Starting epoch: 17 | phase: val | ⏰: 16:40:00\n"
     ]
    },
    {
     "name": "stderr",
     "output_type": "stream",
     "text": [
      "100%|██████████| 84/84 [01:01<00:00,  1.36it/s]\n",
      "  0%|          | 0/334 [00:00<?, ?it/s]"
     ]
    },
    {
     "name": "stdout",
     "output_type": "stream",
     "text": [
      "Loss: 0.0186 | IoU: 0.5490 | dice: 0.6698 | dice_neg: nan | dice_pos: 0.6698\n",
      "\n",
      "Starting epoch: 18 | phase: train | ⏰: 16:41:02\n"
     ]
    },
    {
     "name": "stderr",
     "output_type": "stream",
     "text": [
      "100%|██████████| 334/334 [08:11<00:00,  1.47s/it]\n",
      "  0%|          | 0/84 [00:00<?, ?it/s]"
     ]
    },
    {
     "name": "stdout",
     "output_type": "stream",
     "text": [
      "Loss: 0.0116 | IoU: 0.6205 | dice: 0.7345 | dice_neg: nan | dice_pos: 0.7345\n",
      "Starting epoch: 18 | phase: val | ⏰: 16:49:13\n"
     ]
    },
    {
     "name": "stderr",
     "output_type": "stream",
     "text": [
      "100%|██████████| 84/84 [01:00<00:00,  1.39it/s]\n",
      "  0%|          | 0/334 [00:00<?, ?it/s]"
     ]
    },
    {
     "name": "stdout",
     "output_type": "stream",
     "text": [
      "Loss: 0.0191 | IoU: 0.5436 | dice: 0.6653 | dice_neg: nan | dice_pos: 0.6653\n",
      "\n",
      "Starting epoch: 19 | phase: train | ⏰: 16:50:14\n"
     ]
    },
    {
     "name": "stderr",
     "output_type": "stream",
     "text": [
      "100%|██████████| 334/334 [08:11<00:00,  1.47s/it]\n",
      "  0%|          | 0/84 [00:00<?, ?it/s]"
     ]
    },
    {
     "name": "stdout",
     "output_type": "stream",
     "text": [
      "Loss: 0.0112 | IoU: 0.6261 | dice: 0.7388 | dice_neg: nan | dice_pos: 0.7388\n",
      "Starting epoch: 19 | phase: val | ⏰: 16:58:25\n"
     ]
    },
    {
     "name": "stderr",
     "output_type": "stream",
     "text": [
      "100%|██████████| 84/84 [00:57<00:00,  1.46it/s]"
     ]
    },
    {
     "name": "stdout",
     "output_type": "stream",
     "text": [
      "Loss: 0.0194 | IoU: 0.5476 | dice: 0.6690 | dice_neg: nan | dice_pos: 0.6690\n",
      "\n"
     ]
    },
    {
     "name": "stderr",
     "output_type": "stream",
     "text": [
      "\n"
     ]
    }
   ],
   "source": [
    "model_trainer = Trainer(model, dataloaders)\n",
    "model_trainer.start()"
   ]
  },
  {
   "cell_type": "code",
   "execution_count": 10,
   "metadata": {
    "scrolled": true
   },
   "outputs": [
    {
     "data": {
      "image/png": "[encoded data removed]",
      "text/plain": [
       "<Figure size 1080x360 with 1 Axes>"
      ]
     },
     "metadata": {
      "needs_background": "light"
     },
     "output_type": "display_data"
    },
    {
     "data": {
      "image/png": "[encoded data removed]",
      "text/plain": [
       "<Figure size 1080x360 with 1 Axes>"
      ]
     },
     "metadata": {
      "needs_background": "light"
     },
     "output_type": "display_data"
    },
    {
     "data": {
      "image/png": "[encoded data removed]",
      "text/plain": [
       "<Figure size 1080x360 with 1 Axes>"
      ]
     },
     "metadata": {
      "needs_background": "light"
     },
     "output_type": "display_data"
    },
    {
     "name": "stdout",
     "output_type": "stream",
     "text": [
      "{'train': [0.14092450871684414, 0.031377821982263805, 0.02692270062551527, 0.024682937914918282, 0.022885970570548565, 0.02265646449753089, 0.02153518591578046, 0.02025642876184272, 0.019278412919023078, 0.018669286742806435, 0.018114798363510095, 0.01749548555803513, 0.018253840402906348, 0.01655738226634389, 0.015671883237096455, 0.01511402234217587, 0.012655680217016154, 0.011970192729356047, 0.011587451779545692, 0.011206571248354402], 'val': [0.03573708834924868, 0.02955333907378926, 0.02356993871563602, 0.027625080641536487, 0.02288967199135749, 0.022669203845517977, 0.025545908193591805, 0.0210470045207157, 0.021668099088683015, 0.021623346400225445, 0.019610273019809808, 0.019402176862405168, 0.02325083937362901, 0.020194215572527832, 0.020190174103758875, 0.020897235932006014, 0.01808692907382335, 0.018579550275933884, 0.019053610424245044, 0.019404741918801198]}\n",
      "{'train': [0.3569189931221527, 0.48117348494912016, 0.5029862518472904, 0.5194444403366548, 0.5408532591303843, 0.5386684111864267, 0.5472591329882087, 0.5624673224465683, 0.5717114141425732, 0.5778635066469273, 0.5873382213491228, 0.620770927617896, 0.632053091142198, 0.6501453434469878, 0.6640543365933662, 0.6777634701275163, 0.7176463433211849, 0.7282996365265758, 0.7345287332563273, 0.7387837999915844], 'val': [0.4047796260942953, 0.3917093400313202, 0.5433832281336438, 0.5032393251220393, 0.4708960422834951, 0.5080445504533001, 0.5338239956483443, 0.5404381427343696, 0.564193216347271, 0.5290967024876904, 0.5953664163631099, 0.6258152879783646, 0.5079958722175464, 0.6063153020812165, 0.6225750725407424, 0.6220325806266817, 0.670646877543801, 0.6698155323032295, 0.6653282297518582, 0.6690281276902494]}\n",
      "{'train': [0.26558583771066435, 0.3707727021557947, 0.39425253224904766, 0.41138583060065614, 0.43290334049840185, 0.430873909037567, 0.43992474907725926, 0.4551737497617595, 0.46454012409992373, 0.4717398026416647, 0.4797188476873312, 0.5049228980944905, 0.5139180600053926, 0.5312135197188014, 0.5446746418430234, 0.558484551876542, 0.6009456020647593, 0.6138828651396903, 0.6205373619544483, 0.626084774902197], 'val': [0.30198035037669435, 0.2989965515740355, 0.4357666901163735, 0.3985452671857235, 0.3752039677609723, 0.40190224925401935, 0.4267645698769894, 0.43441784615564216, 0.4605027340920693, 0.42340191228823815, 0.4776948366191932, 0.5100361309175826, 0.382298470221678, 0.4877205660860065, 0.5034731193925697, 0.5021284734200947, 0.5496496253341244, 0.5489763202613352, 0.5436275839301085, 0.5475668651875484]}\n"
     ]
    }
   ],
   "source": [
    "# PLOT TRAINING\n",
    "losses = model_trainer.losses\n",
    "dice_scores = model_trainer.dice_scores\n",
    "iou_scores = model_trainer.iou_scores\n",
    "\n",
    "def plot(scores, name):\n",
    "    plt.figure(figsize=(15,5))\n",
    "    plt.plot(range(len(scores[\"train\"])), scores[\"train\"], label=f'train {name}')\n",
    "    plt.plot(range(len(scores[\"train\"])), scores[\"val\"], label=f'val {name}')\n",
    "    plt.title(f'{name} plot'); plt.xlabel('Epoch'); plt.ylabel(f'{name}');\n",
    "    plt.legend(); \n",
    "    plt.show()\n",
    "\n",
    "plot(losses, \"BCE loss\")\n",
    "plot(dice_scores, \"Dice score\")\n",
    "plot(iou_scores, \"IoU score\")\n",
    "\n",
    "# print(losses)\n",
    "# print(dice_scores)\n",
    "# print(iou_scores)"
   ]
  }
 ],
 "metadata": {
  "interpreter": {
   "hash": "a13f6b629b33ae1565de28e6f3d594510da38c8d6b8d9f640c7c068749f7648e"
  },
  "kernelspec": {
   "display_name": "Environment (conda_pytorch_latest_p37)",
   "language": "python",
   "name": "python3"
  },
  "language_info": {
   "codemirror_mode": {
    "name": "ipython",
    "version": 3
   },
   "file_extension": ".py",
   "mimetype": "text/x-python",
   "name": "python",
   "nbconvert_exporter": "python",
   "pygments_lexer": "ipython3",
   "version": "3.8.8"
  }
 },
 "nbformat": 4,
 "nbformat_minor": 4
}
