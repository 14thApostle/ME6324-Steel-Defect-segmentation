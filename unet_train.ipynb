{
 "cells": [
  {
   "cell_type": "markdown",
   "metadata": {},
   "source": [
    "## Imports"
   ]
  },
  {
   "cell_type": "code",
   "execution_count": 1,
   "metadata": {
    "_cell_guid": "79c7e3d0-c299-4dcb-8224-4455121ee9b0",
    "_uuid": "d629ff2d2480ee46fbb7e2d37f6b5fab8052498a",
    "execution": {
     "iopub.execute_input": "2021-07-05T05:15:51.051727Z",
     "iopub.status.busy": "2021-07-05T05:15:51.051374Z",
     "iopub.status.idle": "2021-07-05T05:15:53.792784Z",
     "shell.execute_reply": "2021-07-05T05:15:53.792032Z",
     "shell.execute_reply.started": "2021-07-05T05:15:51.051645Z"
    }
   },
   "outputs": [],
   "source": [
    "import os\n",
    "import cv2\n",
    "import pdb\n",
    "import time\n",
    "import warnings\n",
    "import random\n",
    "import numpy as np\n",
    "import pandas as pd\n",
    "from tqdm import tqdm_notebook as tqdm\n",
    "from torch.optim.lr_scheduler import ReduceLROnPlateau\n",
    "from sklearn.model_selection import train_test_split\n",
    "import torch\n",
    "import torch.nn as nn\n",
    "from torch.nn import functional as F\n",
    "import torch.optim as optim\n",
    "import torch.backends.cudnn as cudnn\n",
    "from torch.utils.data import DataLoader, Dataset, sampler\n",
    "from matplotlib import pyplot as plt\n",
    "from albumentations import (HorizontalFlip, ShiftScaleRotate, Normalize, Resize, Compose, GaussNoise)\n",
    "from albumentations.pytorch import ToTensor\n",
    "\n",
    "from tqdm import tqdm\n",
    "warnings.filterwarnings(\"ignore\")\n",
    "seed = 69\n",
    "random.seed(seed)\n",
    "os.environ[\"PYTHONHASHSEED\"] = str(seed)\n",
    "np.random.seed(seed)\n",
    "torch.cuda.manual_seed(seed)\n",
    "torch.backends.cudnn.deterministic = True"
   ]
  },
  {
   "cell_type": "markdown",
   "metadata": {},
   "source": [
    "## RLE-Mask utility functions"
   ]
  },
  {
   "cell_type": "code",
   "execution_count": 2,
   "metadata": {
    "execution": {
     "iopub.execute_input": "2021-07-05T05:15:54.637773Z",
     "iopub.status.busy": "2021-07-05T05:15:54.63745Z",
     "iopub.status.idle": "2021-07-05T05:15:54.649617Z",
     "shell.execute_reply": "2021-07-05T05:15:54.648505Z",
     "shell.execute_reply.started": "2021-07-05T05:15:54.637714Z"
    }
   },
   "outputs": [],
   "source": [
    "#https://www.kaggle.com/paulorzp/rle-functions-run-lenght-encode-decode\n",
    "def mask2rle(img):\n",
    "    '''\n",
    "    img: numpy array, 1 -> mask, 0 -> background\n",
    "    Returns run length as string formated\n",
    "    '''\n",
    "    pixels= img.T.flatten()\n",
    "    pixels = np.concatenate([[0], pixels, [0]])\n",
    "    runs = np.where(pixels[1:] != pixels[:-1])[0] + 1\n",
    "    runs[1::2] -= runs[::2]\n",
    "    return ' '.join(str(x) for x in runs)\n",
    "\n",
    "def make_mask(row_id, df):\n",
    "    '''Given a row index, return image_id and mask (256, 1600, 4) from the dataframe `df`'''\n",
    "    fname = df.iloc[row_id].name\n",
    "    labels = df.iloc[row_id][:4]\n",
    "    masks = np.zeros((256, 1600, 4), dtype=np.float32) # float32 is V.Imp\n",
    "    # 4:class 1～4 (ch:0～3)\n",
    "\n",
    "    for idx, label in enumerate(labels.values):\n",
    "        if label is not np.nan:\n",
    "            label = label.split(\" \")\n",
    "            positions = map(int, label[0::2])\n",
    "            length = map(int, label[1::2])\n",
    "            mask = np.zeros(256 * 1600, dtype=np.uint8)\n",
    "            for pos, le in zip(positions, length):\n",
    "                mask[pos:(pos + le)] = 1\n",
    "            masks[:, :, idx] = mask.reshape(256, 1600, order='F')\n",
    "    return fname, masks"
   ]
  },
  {
   "cell_type": "markdown",
   "metadata": {},
   "source": [
    "## Dataloader"
   ]
  },
  {
   "cell_type": "code",
   "execution_count": 3,
   "metadata": {
    "execution": {
     "iopub.execute_input": "2021-07-05T05:17:55.681029Z",
     "iopub.status.busy": "2021-07-05T05:17:55.680717Z",
     "iopub.status.idle": "2021-07-05T05:17:55.698062Z",
     "shell.execute_reply": "2021-07-05T05:17:55.69701Z",
     "shell.execute_reply.started": "2021-07-05T05:17:55.680979Z"
    }
   },
   "outputs": [],
   "source": [
    "class SteelDataset(Dataset):\n",
    "    def __init__(self, df, data_folder, mean, std, phase):\n",
    "        self.df = df\n",
    "        self.root = data_folder\n",
    "        self.mean = mean\n",
    "        self.std = std\n",
    "        self.phase = phase\n",
    "        self.transforms = get_transforms(phase, mean, std)\n",
    "        self.fnames = self.df.index.tolist()\n",
    "\n",
    "    def __getitem__(self, idx):\n",
    "        image_id, mask = make_mask(idx, self.df)\n",
    "        image_path = os.path.join(self.root, \"train_images\",  image_id)\n",
    "        img = cv2.imread(image_path)\n",
    "        augmented = self.transforms(image=img, mask=mask)\n",
    "        img = augmented['image']\n",
    "        mask = augmented['mask'] # 1x256x1600x4\n",
    "        mask = mask[0].permute(2, 0, 1) # 4x256x1600\n",
    "        return img, mask\n",
    "\n",
    "    def __len__(self):\n",
    "        return len(self.fnames)\n",
    "\n",
    "\n",
    "def get_transforms(phase, mean, std):\n",
    "    list_transforms = []\n",
    "    if phase == \"train\":\n",
    "        list_transforms.extend(\n",
    "            [\n",
    "                HorizontalFlip(p=0.5), # only horizontal flip as of now\n",
    "            ]\n",
    "        )\n",
    "    list_transforms.extend(\n",
    "        [\n",
    "            Normalize(mean=mean, std=std, p=1),\n",
    "            ToTensor(),\n",
    "        ]\n",
    "    )\n",
    "    list_trfms = Compose(list_transforms)\n",
    "    return list_trfms\n",
    "\n",
    "def provider(\n",
    "    data_folder,\n",
    "    df_path,\n",
    "    phase,\n",
    "    mean=None,\n",
    "    std=None,\n",
    "    batch_size=8,\n",
    "    num_workers=4,\n",
    "):\n",
    "    '''Returns dataloader for the model training'''\n",
    "    df = pd.read_csv(df_path)\n",
    "    # https://www.kaggle.com/amanooo/defect-detection-starter-u-net\n",
    "    # df['ImageId'], df['ClassId'] = zip(*df['ImageId_ClassId'].str.split('_'))\n",
    "    df['ClassId'] = df['ClassId'].astype(int)\n",
    "    df = df.pivot(index='ImageId',columns='ClassId',values='EncodedPixels')\n",
    "    df['defects'] = df.count(axis=1)\n",
    "    \n",
    "    train_df, val_df = train_test_split(df, test_size=0.2, stratify=df[\"defects\"], random_state=69)\n",
    "    df = train_df if phase == \"train\" else val_df\n",
    "    image_dataset = SteelDataset(df, data_folder, mean, std, phase)\n",
    "    dataloader = DataLoader(\n",
    "        image_dataset,\n",
    "        batch_size=batch_size,\n",
    "        num_workers=num_workers,\n",
    "        pin_memory=True,\n",
    "        shuffle=True,   \n",
    "    )\n",
    "\n",
    "    return dataloader\n"
   ]
  },
  {
   "cell_type": "markdown",
   "metadata": {},
   "source": [
    "## Some more utility functions\n",
    "\n",
    "Dice and IoU metric implementations, metric logger for training and validation."
   ]
  },
  {
   "cell_type": "code",
   "execution_count": 4,
   "metadata": {
    "execution": {
     "iopub.execute_input": "2021-07-05T05:17:56.610399Z",
     "iopub.status.busy": "2021-07-05T05:17:56.610101Z",
     "iopub.status.idle": "2021-07-05T05:17:56.636739Z",
     "shell.execute_reply": "2021-07-05T05:17:56.635443Z",
     "shell.execute_reply.started": "2021-07-05T05:17:56.610348Z"
    }
   },
   "outputs": [],
   "source": [
    "def predict(X, threshold):\n",
    "    '''X is sigmoid output of the model'''\n",
    "    X_p = np.copy(X)\n",
    "    preds = (X_p > threshold).astype('uint8')\n",
    "    return preds\n",
    "\n",
    "def metric(probability, truth, threshold=0.5, reduction='none'):\n",
    "    '''Calculates dice of positive and negative images seperately'''\n",
    "    '''probability and truth must be torch tensors'''\n",
    "    batch_size = len(truth)\n",
    "    with torch.no_grad():\n",
    "        probability = probability.view(batch_size, -1)\n",
    "        truth = truth.view(batch_size, -1)\n",
    "        assert(probability.shape == truth.shape)\n",
    "\n",
    "        p = (probability > threshold).float()\n",
    "        t = (truth > 0.5).float()\n",
    "\n",
    "        t_sum = t.sum(-1)\n",
    "        p_sum = p.sum(-1)\n",
    "        neg_index = torch.nonzero(t_sum == 0)\n",
    "        pos_index = torch.nonzero(t_sum >= 1)\n",
    "\n",
    "        dice_neg = (p_sum == 0).float()\n",
    "        dice_pos = 2 * (p*t).sum(-1)/((p+t).sum(-1))\n",
    "\n",
    "        dice_neg = dice_neg[neg_index]\n",
    "        dice_pos = dice_pos[pos_index]\n",
    "        dice = torch.cat([dice_pos, dice_neg])\n",
    "\n",
    "#         dice_neg = np.nan_to_num(dice_neg.mean().item(), 0)\n",
    "#         dice_pos = np.nan_to_num(dice_pos.mean().item(), 0)\n",
    "#         dice = dice.mean().item()\n",
    "\n",
    "        num_neg = len(neg_index)\n",
    "        num_pos = len(pos_index)\n",
    "\n",
    "    return dice, dice_neg, dice_pos, num_neg, num_pos\n",
    "\n",
    "class Meter:\n",
    "    '''A meter to keep track of iou and dice scores throughout an epoch'''\n",
    "    def __init__(self, phase, epoch):\n",
    "        self.base_threshold = 0.5 # <<<<<<<<<<< here's the threshold\n",
    "        self.base_dice_scores = []\n",
    "        self.dice_neg_scores = []\n",
    "        self.dice_pos_scores = []\n",
    "        self.iou_scores = []\n",
    "\n",
    "    def update(self, targets, outputs):\n",
    "        probs = torch.sigmoid(outputs)\n",
    "        dice, dice_neg, dice_pos, _, _ = metric(probs, targets, self.base_threshold)\n",
    "        self.base_dice_scores.extend(dice.tolist())\n",
    "        self.dice_pos_scores.extend(dice_pos.tolist())\n",
    "        self.dice_neg_scores.extend(dice_neg.tolist())\n",
    "        preds = predict(probs, self.base_threshold)\n",
    "        iou = compute_iou_batch(preds, targets, classes=[1])\n",
    "        self.iou_scores.append(iou)\n",
    "\n",
    "    def get_metrics(self):\n",
    "        dice = np.nanmean(self.base_dice_scores)\n",
    "        dice_neg = np.nanmean(self.dice_neg_scores)\n",
    "        dice_pos = np.nanmean(self.dice_pos_scores)\n",
    "        dices = [dice, dice_neg, dice_pos]\n",
    "        iou = np.nanmean(self.iou_scores)\n",
    "        return dices, iou\n",
    "\n",
    "def epoch_log(phase, epoch, epoch_loss, meter, start):\n",
    "    '''logging the metrics at the end of an epoch'''\n",
    "    dices, iou = meter.get_metrics()\n",
    "    dice, dice_neg, dice_pos = dices\n",
    "    print(\"Loss: %0.4f | IoU: %0.4f | dice: %0.4f | dice_neg: %0.4f | dice_pos: %0.4f\" % (epoch_loss, iou, dice, dice_neg, dice_pos))\n",
    "    return dice, iou\n",
    "\n",
    "def compute_ious(pred, label, classes, ignore_index=255, only_present=True):\n",
    "    '''computes iou for one ground truth mask and predicted mask'''\n",
    "    pred[label == ignore_index] = 0\n",
    "    ious = []\n",
    "    for c in classes:\n",
    "        label_c = label == c\n",
    "        if only_present and np.sum(label_c) == 0:\n",
    "            ious.append(np.nan)\n",
    "            continue\n",
    "        pred_c = pred == c\n",
    "        intersection = np.logical_and(pred_c, label_c).sum()\n",
    "        union = np.logical_or(pred_c, label_c).sum()\n",
    "        if union != 0:\n",
    "            ious.append(intersection / union)\n",
    "    return ious if ious else [1]\n",
    "\n",
    "def compute_iou_batch(outputs, labels, classes=None):\n",
    "    '''computes mean iou for a batch of ground truth masks and predicted masks'''\n",
    "    ious = []\n",
    "    preds = np.copy(outputs) # copy is imp\n",
    "    labels = np.array(labels) # tensor to np\n",
    "    for pred, label in zip(preds, labels):\n",
    "        ious.append(np.nanmean(compute_ious(pred, label, classes)))\n",
    "    iou = np.nanmean(ious)\n",
    "    return iou\n"
   ]
  },
  {
   "cell_type": "markdown",
   "metadata": {},
   "source": [
    "## Model Initialization"
   ]
  },
  {
   "cell_type": "code",
   "execution_count": 5,
   "metadata": {
    "execution": {
     "iopub.execute_input": "2021-07-05T05:17:59.23453Z",
     "iopub.status.busy": "2021-07-05T05:17:59.234261Z",
     "iopub.status.idle": "2021-07-05T05:17:59.399211Z",
     "shell.execute_reply": "2021-07-05T05:17:59.398364Z",
     "shell.execute_reply.started": "2021-07-05T05:17:59.234476Z"
    }
   },
   "outputs": [
    {
     "data": {
      "text/plain": [
       "Unet(\n",
       "  (encoder): ResNetEncoder(\n",
       "    (conv1): Conv2d(3, 64, kernel_size=(7, 7), stride=(2, 2), padding=(3, 3), bias=False)\n",
       "    (bn1): BatchNorm2d(64, eps=1e-05, momentum=0.1, affine=True, track_running_stats=True)\n",
       "    (relu): ReLU(inplace=True)\n",
       "    (maxpool): MaxPool2d(kernel_size=3, stride=2, padding=1, dilation=1, ceil_mode=False)\n",
       "    (layer1): Sequential(\n",
       "      (0): BasicBlock(\n",
       "        (conv1): Conv2d(64, 64, kernel_size=(3, 3), stride=(1, 1), padding=(1, 1), bias=False)\n",
       "        (bn1): BatchNorm2d(64, eps=1e-05, momentum=0.1, affine=True, track_running_stats=True)\n",
       "        (relu): ReLU(inplace=True)\n",
       "        (conv2): Conv2d(64, 64, kernel_size=(3, 3), stride=(1, 1), padding=(1, 1), bias=False)\n",
       "        (bn2): BatchNorm2d(64, eps=1e-05, momentum=0.1, affine=True, track_running_stats=True)\n",
       "      )\n",
       "      (1): BasicBlock(\n",
       "        (conv1): Conv2d(64, 64, kernel_size=(3, 3), stride=(1, 1), padding=(1, 1), bias=False)\n",
       "        (bn1): BatchNorm2d(64, eps=1e-05, momentum=0.1, affine=True, track_running_stats=True)\n",
       "        (relu): ReLU(inplace=True)\n",
       "        (conv2): Conv2d(64, 64, kernel_size=(3, 3), stride=(1, 1), padding=(1, 1), bias=False)\n",
       "        (bn2): BatchNorm2d(64, eps=1e-05, momentum=0.1, affine=True, track_running_stats=True)\n",
       "      )\n",
       "    )\n",
       "    (layer2): Sequential(\n",
       "      (0): BasicBlock(\n",
       "        (conv1): Conv2d(64, 128, kernel_size=(3, 3), stride=(2, 2), padding=(1, 1), bias=False)\n",
       "        (bn1): BatchNorm2d(128, eps=1e-05, momentum=0.1, affine=True, track_running_stats=True)\n",
       "        (relu): ReLU(inplace=True)\n",
       "        (conv2): Conv2d(128, 128, kernel_size=(3, 3), stride=(1, 1), padding=(1, 1), bias=False)\n",
       "        (bn2): BatchNorm2d(128, eps=1e-05, momentum=0.1, affine=True, track_running_stats=True)\n",
       "        (downsample): Sequential(\n",
       "          (0): Conv2d(64, 128, kernel_size=(1, 1), stride=(2, 2), bias=False)\n",
       "          (1): BatchNorm2d(128, eps=1e-05, momentum=0.1, affine=True, track_running_stats=True)\n",
       "        )\n",
       "      )\n",
       "      (1): BasicBlock(\n",
       "        (conv1): Conv2d(128, 128, kernel_size=(3, 3), stride=(1, 1), padding=(1, 1), bias=False)\n",
       "        (bn1): BatchNorm2d(128, eps=1e-05, momentum=0.1, affine=True, track_running_stats=True)\n",
       "        (relu): ReLU(inplace=True)\n",
       "        (conv2): Conv2d(128, 128, kernel_size=(3, 3), stride=(1, 1), padding=(1, 1), bias=False)\n",
       "        (bn2): BatchNorm2d(128, eps=1e-05, momentum=0.1, affine=True, track_running_stats=True)\n",
       "      )\n",
       "    )\n",
       "    (layer3): Sequential(\n",
       "      (0): BasicBlock(\n",
       "        (conv1): Conv2d(128, 256, kernel_size=(3, 3), stride=(2, 2), padding=(1, 1), bias=False)\n",
       "        (bn1): BatchNorm2d(256, eps=1e-05, momentum=0.1, affine=True, track_running_stats=True)\n",
       "        (relu): ReLU(inplace=True)\n",
       "        (conv2): Conv2d(256, 256, kernel_size=(3, 3), stride=(1, 1), padding=(1, 1), bias=False)\n",
       "        (bn2): BatchNorm2d(256, eps=1e-05, momentum=0.1, affine=True, track_running_stats=True)\n",
       "        (downsample): Sequential(\n",
       "          (0): Conv2d(128, 256, kernel_size=(1, 1), stride=(2, 2), bias=False)\n",
       "          (1): BatchNorm2d(256, eps=1e-05, momentum=0.1, affine=True, track_running_stats=True)\n",
       "        )\n",
       "      )\n",
       "      (1): BasicBlock(\n",
       "        (conv1): Conv2d(256, 256, kernel_size=(3, 3), stride=(1, 1), padding=(1, 1), bias=False)\n",
       "        (bn1): BatchNorm2d(256, eps=1e-05, momentum=0.1, affine=True, track_running_stats=True)\n",
       "        (relu): ReLU(inplace=True)\n",
       "        (conv2): Conv2d(256, 256, kernel_size=(3, 3), stride=(1, 1), padding=(1, 1), bias=False)\n",
       "        (bn2): BatchNorm2d(256, eps=1e-05, momentum=0.1, affine=True, track_running_stats=True)\n",
       "      )\n",
       "    )\n",
       "    (layer4): Sequential(\n",
       "      (0): BasicBlock(\n",
       "        (conv1): Conv2d(256, 512, kernel_size=(3, 3), stride=(2, 2), padding=(1, 1), bias=False)\n",
       "        (bn1): BatchNorm2d(512, eps=1e-05, momentum=0.1, affine=True, track_running_stats=True)\n",
       "        (relu): ReLU(inplace=True)\n",
       "        (conv2): Conv2d(512, 512, kernel_size=(3, 3), stride=(1, 1), padding=(1, 1), bias=False)\n",
       "        (bn2): BatchNorm2d(512, eps=1e-05, momentum=0.1, affine=True, track_running_stats=True)\n",
       "        (downsample): Sequential(\n",
       "          (0): Conv2d(256, 512, kernel_size=(1, 1), stride=(2, 2), bias=False)\n",
       "          (1): BatchNorm2d(512, eps=1e-05, momentum=0.1, affine=True, track_running_stats=True)\n",
       "        )\n",
       "      )\n",
       "      (1): BasicBlock(\n",
       "        (conv1): Conv2d(512, 512, kernel_size=(3, 3), stride=(1, 1), padding=(1, 1), bias=False)\n",
       "        (bn1): BatchNorm2d(512, eps=1e-05, momentum=0.1, affine=True, track_running_stats=True)\n",
       "        (relu): ReLU(inplace=True)\n",
       "        (conv2): Conv2d(512, 512, kernel_size=(3, 3), stride=(1, 1), padding=(1, 1), bias=False)\n",
       "        (bn2): BatchNorm2d(512, eps=1e-05, momentum=0.1, affine=True, track_running_stats=True)\n",
       "      )\n",
       "    )\n",
       "  )\n",
       "  (decoder): UnetDecoder(\n",
       "    (center): Identity()\n",
       "    (blocks): ModuleList(\n",
       "      (0): DecoderBlock(\n",
       "        (conv1): Conv2dReLU(\n",
       "          (0): Conv2d(768, 256, kernel_size=(3, 3), stride=(1, 1), padding=(1, 1), bias=False)\n",
       "          (1): BatchNorm2d(256, eps=1e-05, momentum=0.1, affine=True, track_running_stats=True)\n",
       "          (2): ReLU(inplace=True)\n",
       "        )\n",
       "        (attention1): Attention(\n",
       "          (attention): Identity()\n",
       "        )\n",
       "        (conv2): Conv2dReLU(\n",
       "          (0): Conv2d(256, 256, kernel_size=(3, 3), stride=(1, 1), padding=(1, 1), bias=False)\n",
       "          (1): BatchNorm2d(256, eps=1e-05, momentum=0.1, affine=True, track_running_stats=True)\n",
       "          (2): ReLU(inplace=True)\n",
       "        )\n",
       "        (attention2): Attention(\n",
       "          (attention): Identity()\n",
       "        )\n",
       "      )\n",
       "      (1): DecoderBlock(\n",
       "        (conv1): Conv2dReLU(\n",
       "          (0): Conv2d(384, 128, kernel_size=(3, 3), stride=(1, 1), padding=(1, 1), bias=False)\n",
       "          (1): BatchNorm2d(128, eps=1e-05, momentum=0.1, affine=True, track_running_stats=True)\n",
       "          (2): ReLU(inplace=True)\n",
       "        )\n",
       "        (attention1): Attention(\n",
       "          (attention): Identity()\n",
       "        )\n",
       "        (conv2): Conv2dReLU(\n",
       "          (0): Conv2d(128, 128, kernel_size=(3, 3), stride=(1, 1), padding=(1, 1), bias=False)\n",
       "          (1): BatchNorm2d(128, eps=1e-05, momentum=0.1, affine=True, track_running_stats=True)\n",
       "          (2): ReLU(inplace=True)\n",
       "        )\n",
       "        (attention2): Attention(\n",
       "          (attention): Identity()\n",
       "        )\n",
       "      )\n",
       "      (2): DecoderBlock(\n",
       "        (conv1): Conv2dReLU(\n",
       "          (0): Conv2d(192, 64, kernel_size=(3, 3), stride=(1, 1), padding=(1, 1), bias=False)\n",
       "          (1): BatchNorm2d(64, eps=1e-05, momentum=0.1, affine=True, track_running_stats=True)\n",
       "          (2): ReLU(inplace=True)\n",
       "        )\n",
       "        (attention1): Attention(\n",
       "          (attention): Identity()\n",
       "        )\n",
       "        (conv2): Conv2dReLU(\n",
       "          (0): Conv2d(64, 64, kernel_size=(3, 3), stride=(1, 1), padding=(1, 1), bias=False)\n",
       "          (1): BatchNorm2d(64, eps=1e-05, momentum=0.1, affine=True, track_running_stats=True)\n",
       "          (2): ReLU(inplace=True)\n",
       "        )\n",
       "        (attention2): Attention(\n",
       "          (attention): Identity()\n",
       "        )\n",
       "      )\n",
       "      (3): DecoderBlock(\n",
       "        (conv1): Conv2dReLU(\n",
       "          (0): Conv2d(128, 32, kernel_size=(3, 3), stride=(1, 1), padding=(1, 1), bias=False)\n",
       "          (1): BatchNorm2d(32, eps=1e-05, momentum=0.1, affine=True, track_running_stats=True)\n",
       "          (2): ReLU(inplace=True)\n",
       "        )\n",
       "        (attention1): Attention(\n",
       "          (attention): Identity()\n",
       "        )\n",
       "        (conv2): Conv2dReLU(\n",
       "          (0): Conv2d(32, 32, kernel_size=(3, 3), stride=(1, 1), padding=(1, 1), bias=False)\n",
       "          (1): BatchNorm2d(32, eps=1e-05, momentum=0.1, affine=True, track_running_stats=True)\n",
       "          (2): ReLU(inplace=True)\n",
       "        )\n",
       "        (attention2): Attention(\n",
       "          (attention): Identity()\n",
       "        )\n",
       "      )\n",
       "      (4): DecoderBlock(\n",
       "        (conv1): Conv2dReLU(\n",
       "          (0): Conv2d(32, 16, kernel_size=(3, 3), stride=(1, 1), padding=(1, 1), bias=False)\n",
       "          (1): BatchNorm2d(16, eps=1e-05, momentum=0.1, affine=True, track_running_stats=True)\n",
       "          (2): ReLU(inplace=True)\n",
       "        )\n",
       "        (attention1): Attention(\n",
       "          (attention): Identity()\n",
       "        )\n",
       "        (conv2): Conv2dReLU(\n",
       "          (0): Conv2d(16, 16, kernel_size=(3, 3), stride=(1, 1), padding=(1, 1), bias=False)\n",
       "          (1): BatchNorm2d(16, eps=1e-05, momentum=0.1, affine=True, track_running_stats=True)\n",
       "          (2): ReLU(inplace=True)\n",
       "        )\n",
       "        (attention2): Attention(\n",
       "          (attention): Identity()\n",
       "        )\n",
       "      )\n",
       "    )\n",
       "  )\n",
       "  (segmentation_head): SegmentationHead(\n",
       "    (0): Conv2d(16, 4, kernel_size=(3, 3), stride=(1, 1), padding=(1, 1))\n",
       "    (1): Identity()\n",
       "    (2): Activation(\n",
       "      (activation): Identity()\n",
       "    )\n",
       "  )\n",
       ")"
      ]
     },
     "execution_count": 5,
     "metadata": {},
     "output_type": "execute_result"
    }
   ],
   "source": [
    "from segmentation_models_pytorch import Unet\n",
    "model = Unet(\"resnet18\", encoder_weights=\"imagenet\", classes=4, activation=None)\n",
    "model.cuda()"
   ]
  },
  {
   "cell_type": "markdown",
   "metadata": {},
   "source": [
    "### Training and Validation"
   ]
  },
  {
   "cell_type": "code",
   "execution_count": 6,
   "metadata": {
    "execution": {
     "iopub.execute_input": "2021-07-05T05:18:00.798627Z",
     "iopub.status.busy": "2021-07-05T05:18:00.798331Z",
     "iopub.status.idle": "2021-07-05T05:18:00.825911Z",
     "shell.execute_reply": "2021-07-05T05:18:00.824728Z",
     "shell.execute_reply.started": "2021-07-05T05:18:00.798577Z"
    }
   },
   "outputs": [],
   "source": [
    "class Trainer(object):\n",
    "    '''This class takes care of training and validation of our model'''\n",
    "    def __init__(self, model):\n",
    "        self.num_workers = 6\n",
    "        self.batch_size = {\"train\": 16, \"val\": 16}\n",
    "        self.accumulation_steps = 16 // self.batch_size['train']\n",
    "        self.lr = 5e-4\n",
    "        self.num_epochs = 20\n",
    "        self.best_loss = float(\"inf\")\n",
    "        self.phases = [\"train\", \"val\"]\n",
    "        self.device = torch.device(\"cuda:0\")\n",
    "        torch.set_default_tensor_type(\"torch.cuda.FloatTensor\")\n",
    "        self.net = model\n",
    "        self.criterion = torch.nn.BCEWithLogitsLoss()\n",
    "        self.optimizer = optim.Adam(self.net.parameters(), lr=self.lr)\n",
    "        self.scheduler = ReduceLROnPlateau(self.optimizer, mode=\"min\", patience=3, verbose=True)\n",
    "        self.net = self.net.to(self.device)\n",
    "        cudnn.benchmark = True\n",
    "        self.dataloaders = {\n",
    "            phase: provider(\n",
    "                data_folder=data_folder,\n",
    "                df_path=train_df_path,\n",
    "                phase=phase,\n",
    "                mean=(0.485, 0.456, 0.406),\n",
    "                std=(0.229, 0.224, 0.225),\n",
    "                batch_size=self.batch_size[phase],\n",
    "                num_workers=self.num_workers,\n",
    "            )\n",
    "            for phase in self.phases\n",
    "        }\n",
    "        self.losses = {phase: [] for phase in self.phases}\n",
    "        self.iou_scores = {phase: [] for phase in self.phases}\n",
    "        self.dice_scores = {phase: [] for phase in self.phases}\n",
    "        \n",
    "    def forward(self, images, targets):\n",
    "        images = images.to(self.device)\n",
    "        masks = targets.to(self.device)\n",
    "        outputs = self.net(images)\n",
    "        loss = self.criterion(outputs, masks)\n",
    "        return loss, outputs\n",
    "\n",
    "    def iterate(self, epoch, phase):\n",
    "        meter = Meter(phase, epoch)\n",
    "        start = time.strftime(\"%H:%M:%S\")\n",
    "        print(f\"Starting epoch: {epoch} | phase: {phase} | ⏰: {start}\")\n",
    "        batch_size = self.batch_size[phase]\n",
    "        self.net.train(phase == \"train\")\n",
    "        dataloader = self.dataloaders[phase]\n",
    "        running_loss = 0.0\n",
    "        total_batches = len(dataloader)\n",
    "        tk0 = tqdm(dataloader, total=total_batches)\n",
    "        self.optimizer.zero_grad()\n",
    "        for itr, batch in enumerate(tk0): # replace `dataloader` with `tk0` for tqdm\n",
    "            images, targets = batch\n",
    "            loss, outputs = self.forward(images, targets)\n",
    "            loss = loss / self.accumulation_steps\n",
    "            if phase == \"train\":\n",
    "                loss.backward()\n",
    "                if (itr + 1 ) % self.accumulation_steps == 0:\n",
    "                    self.optimizer.step()\n",
    "                    self.optimizer.zero_grad()\n",
    "            running_loss += loss.item()\n",
    "            outputs = outputs.detach().cpu()\n",
    "            meter.update(targets, outputs)\n",
    "#             tk0.set_postfix(loss=(running_loss / ((itr + 1))))\n",
    "        epoch_loss = (running_loss * self.accumulation_steps) / total_batches\n",
    "        dice, iou = epoch_log(phase, epoch, epoch_loss, meter, start)\n",
    "        self.losses[phase].append(epoch_loss)\n",
    "        self.dice_scores[phase].append(dice)\n",
    "        self.iou_scores[phase].append(iou)\n",
    "        torch.cuda.empty_cache()\n",
    "        return epoch_loss\n",
    "\n",
    "    def start(self):\n",
    "        for epoch in range(self.num_epochs):\n",
    "            self.iterate(epoch, \"train\")\n",
    "            state = {\n",
    "                \"epoch\": epoch,\n",
    "                \"best_loss\": self.best_loss,\n",
    "                \"state_dict\": self.net.state_dict(),\n",
    "                \"optimizer\": self.optimizer.state_dict(),\n",
    "            }\n",
    "            with torch.no_grad():\n",
    "                val_loss = self.iterate(epoch, \"val\")\n",
    "                self.scheduler.step(val_loss)\n",
    "            if val_loss < self.best_loss:\n",
    "                print(\"******** New optimal found, saving state ********\")\n",
    "                state[\"best_loss\"] = self.best_loss = val_loss\n",
    "                torch.save(state, \"./model.pth\")\n",
    "            print()\n"
   ]
  },
  {
   "cell_type": "code",
   "execution_count": 7,
   "metadata": {
    "execution": {
     "iopub.execute_input": "2021-07-05T05:18:01.107313Z",
     "iopub.status.busy": "2021-07-05T05:18:01.107018Z",
     "iopub.status.idle": "2021-07-05T05:18:01.111566Z",
     "shell.execute_reply": "2021-07-05T05:18:01.110759Z",
     "shell.execute_reply.started": "2021-07-05T05:18:01.107262Z"
    }
   },
   "outputs": [],
   "source": [
    "sample_submission_path = './severstal-steel-defect-detection/sample_submission.csv'\n",
    "train_df_path = './severstal-steel-defect-detection/train.csv'\n",
    "data_folder = \"./severstal-steel-defect-detection/\"\n",
    "test_data_folder = \"./severstal-steel-defect-detection/test_images\""
   ]
  },
  {
   "cell_type": "code",
   "execution_count": 8,
   "metadata": {},
   "outputs": [
    {
     "name": "stderr",
     "output_type": "stream",
     "text": [
      "  0%|          | 0/334 [00:00<?, ?it/s]"
     ]
    },
    {
     "name": "stdout",
     "output_type": "stream",
     "text": [
      "Starting epoch: 0 | phase: train | ⏰: 13:55:20\n"
     ]
    },
    {
     "name": "stderr",
     "output_type": "stream",
     "text": [
      "100%|██████████| 334/334 [08:32<00:00,  1.53s/it]\n",
      "  0%|          | 0/84 [00:00<?, ?it/s]"
     ]
    },
    {
     "name": "stdout",
     "output_type": "stream",
     "text": [
      "Loss: 0.1409 | IoU: 0.2656 | dice: 0.3569 | dice_neg: nan | dice_pos: 0.3569\n",
      "Starting epoch: 0 | phase: val | ⏰: 14:03:53\n"
     ]
    },
    {
     "name": "stderr",
     "output_type": "stream",
     "text": [
      "100%|██████████| 84/84 [00:59<00:00,  1.41it/s]\n"
     ]
    },
    {
     "name": "stdout",
     "output_type": "stream",
     "text": [
      "Loss: 0.0357 | IoU: 0.3020 | dice: 0.4048 | dice_neg: nan | dice_pos: 0.4048\n",
      "******** New optimal found, saving state ********\n"
     ]
    },
    {
     "name": "stderr",
     "output_type": "stream",
     "text": [
      "  0%|          | 0/334 [00:00<?, ?it/s]"
     ]
    },
    {
     "name": "stdout",
     "output_type": "stream",
     "text": [
      "\n",
      "Starting epoch: 1 | phase: train | ⏰: 14:04:53\n"
     ]
    },
    {
     "name": "stderr",
     "output_type": "stream",
     "text": [
      "100%|██████████| 334/334 [08:17<00:00,  1.49s/it]\n",
      "  0%|          | 0/84 [00:00<?, ?it/s]"
     ]
    },
    {
     "name": "stdout",
     "output_type": "stream",
     "text": [
      "Loss: 0.0314 | IoU: 0.3708 | dice: 0.4812 | dice_neg: nan | dice_pos: 0.4812\n",
      "Starting epoch: 1 | phase: val | ⏰: 14:13:10\n"
     ]
    },
    {
     "name": "stderr",
     "output_type": "stream",
     "text": [
      "100%|██████████| 84/84 [00:56<00:00,  1.48it/s]\n"
     ]
    },
    {
     "name": "stdout",
     "output_type": "stream",
     "text": [
      "Loss: 0.0296 | IoU: 0.2990 | dice: 0.3917 | dice_neg: nan | dice_pos: 0.3917\n",
      "******** New optimal found, saving state ********\n"
     ]
    },
    {
     "name": "stderr",
     "output_type": "stream",
     "text": [
      "  0%|          | 0/334 [00:00<?, ?it/s]"
     ]
    },
    {
     "name": "stdout",
     "output_type": "stream",
     "text": [
      "\n",
      "Starting epoch: 2 | phase: train | ⏰: 14:14:07\n"
     ]
    },
    {
     "name": "stderr",
     "output_type": "stream",
     "text": [
      "100%|██████████| 334/334 [07:57<00:00,  1.43s/it]\n",
      "  0%|          | 0/84 [00:00<?, ?it/s]"
     ]
    },
    {
     "name": "stdout",
     "output_type": "stream",
     "text": [
      "Loss: 0.0269 | IoU: 0.3943 | dice: 0.5030 | dice_neg: nan | dice_pos: 0.5030\n",
      "Starting epoch: 2 | phase: val | ⏰: 14:22:04\n"
     ]
    },
    {
     "name": "stderr",
     "output_type": "stream",
     "text": [
      "100%|██████████| 84/84 [00:58<00:00,  1.44it/s]\n"
     ]
    },
    {
     "name": "stdout",
     "output_type": "stream",
     "text": [
      "Loss: 0.0236 | IoU: 0.4358 | dice: 0.5434 | dice_neg: nan | dice_pos: 0.5434\n",
      "******** New optimal found, saving state ********\n"
     ]
    },
    {
     "name": "stderr",
     "output_type": "stream",
     "text": [
      "  0%|          | 0/334 [00:00<?, ?it/s]"
     ]
    },
    {
     "name": "stdout",
     "output_type": "stream",
     "text": [
      "\n",
      "Starting epoch: 3 | phase: train | ⏰: 14:23:03\n"
     ]
    },
    {
     "name": "stderr",
     "output_type": "stream",
     "text": [
      "100%|██████████| 334/334 [08:16<00:00,  1.49s/it]\n",
      "  0%|          | 0/84 [00:00<?, ?it/s]"
     ]
    },
    {
     "name": "stdout",
     "output_type": "stream",
     "text": [
      "Loss: 0.0247 | IoU: 0.4114 | dice: 0.5194 | dice_neg: nan | dice_pos: 0.5194\n",
      "Starting epoch: 3 | phase: val | ⏰: 14:31:20\n"
     ]
    },
    {
     "name": "stderr",
     "output_type": "stream",
     "text": [
      "100%|██████████| 84/84 [01:02<00:00,  1.35it/s]\n",
      "  0%|          | 0/334 [00:00<?, ?it/s]"
     ]
    },
    {
     "name": "stdout",
     "output_type": "stream",
     "text": [
      "Loss: 0.0276 | IoU: 0.3985 | dice: 0.5032 | dice_neg: nan | dice_pos: 0.5032\n",
      "\n",
      "Starting epoch: 4 | phase: train | ⏰: 14:32:22\n"
     ]
    },
    {
     "name": "stderr",
     "output_type": "stream",
     "text": [
      "100%|██████████| 334/334 [08:18<00:00,  1.49s/it]\n",
      "  0%|          | 0/84 [00:00<?, ?it/s]"
     ]
    },
    {
     "name": "stdout",
     "output_type": "stream",
     "text": [
      "Loss: 0.0229 | IoU: 0.4329 | dice: 0.5409 | dice_neg: nan | dice_pos: 0.5409\n",
      "Starting epoch: 4 | phase: val | ⏰: 14:40:41\n"
     ]
    },
    {
     "name": "stderr",
     "output_type": "stream",
     "text": [
      "100%|██████████| 84/84 [00:58<00:00,  1.44it/s]\n"
     ]
    },
    {
     "name": "stdout",
     "output_type": "stream",
     "text": [
      "Loss: 0.0229 | IoU: 0.3752 | dice: 0.4709 | dice_neg: nan | dice_pos: 0.4709\n",
      "******** New optimal found, saving state ********\n"
     ]
    },
    {
     "name": "stderr",
     "output_type": "stream",
     "text": [
      "  0%|          | 0/334 [00:00<?, ?it/s]"
     ]
    },
    {
     "name": "stdout",
     "output_type": "stream",
     "text": [
      "\n",
      "Starting epoch: 5 | phase: train | ⏰: 14:41:39\n"
     ]
    },
    {
     "name": "stderr",
     "output_type": "stream",
     "text": [
      "100%|██████████| 334/334 [08:09<00:00,  1.47s/it]\n",
      "  0%|          | 0/84 [00:00<?, ?it/s]"
     ]
    },
    {
     "name": "stdout",
     "output_type": "stream",
     "text": [
      "Loss: 0.0227 | IoU: 0.4309 | dice: 0.5387 | dice_neg: nan | dice_pos: 0.5387\n",
      "Starting epoch: 5 | phase: val | ⏰: 14:49:49\n"
     ]
    },
    {
     "name": "stderr",
     "output_type": "stream",
     "text": [
      "100%|██████████| 84/84 [00:57<00:00,  1.46it/s]\n"
     ]
    },
    {
     "name": "stdout",
     "output_type": "stream",
     "text": [
      "Loss: 0.0227 | IoU: 0.4019 | dice: 0.5080 | dice_neg: nan | dice_pos: 0.5080\n",
      "******** New optimal found, saving state ********\n"
     ]
    },
    {
     "name": "stderr",
     "output_type": "stream",
     "text": [
      "  0%|          | 0/334 [00:00<?, ?it/s]"
     ]
    },
    {
     "name": "stdout",
     "output_type": "stream",
     "text": [
      "\n",
      "Starting epoch: 6 | phase: train | ⏰: 14:50:47\n"
     ]
    },
    {
     "name": "stderr",
     "output_type": "stream",
     "text": [
      "100%|██████████| 334/334 [08:14<00:00,  1.48s/it]\n",
      "  0%|          | 0/84 [00:00<?, ?it/s]"
     ]
    },
    {
     "name": "stdout",
     "output_type": "stream",
     "text": [
      "Loss: 0.0215 | IoU: 0.4399 | dice: 0.5473 | dice_neg: nan | dice_pos: 0.5473\n",
      "Starting epoch: 6 | phase: val | ⏰: 14:59:01\n"
     ]
    },
    {
     "name": "stderr",
     "output_type": "stream",
     "text": [
      "100%|██████████| 84/84 [00:58<00:00,  1.44it/s]\n",
      "  0%|          | 0/334 [00:00<?, ?it/s]"
     ]
    },
    {
     "name": "stdout",
     "output_type": "stream",
     "text": [
      "Loss: 0.0255 | IoU: 0.4268 | dice: 0.5338 | dice_neg: nan | dice_pos: 0.5338\n",
      "\n",
      "Starting epoch: 7 | phase: train | ⏰: 15:00:00\n"
     ]
    },
    {
     "name": "stderr",
     "output_type": "stream",
     "text": [
      "100%|██████████| 334/334 [08:18<00:00,  1.49s/it]\n",
      "  0%|          | 0/84 [00:00<?, ?it/s]"
     ]
    },
    {
     "name": "stdout",
     "output_type": "stream",
     "text": [
      "Loss: 0.0203 | IoU: 0.4552 | dice: 0.5625 | dice_neg: nan | dice_pos: 0.5625\n",
      "Starting epoch: 7 | phase: val | ⏰: 15:08:18\n"
     ]
    },
    {
     "name": "stderr",
     "output_type": "stream",
     "text": [
      "100%|██████████| 84/84 [00:58<00:00,  1.44it/s]\n"
     ]
    },
    {
     "name": "stdout",
     "output_type": "stream",
     "text": [
      "Loss: 0.0210 | IoU: 0.4344 | dice: 0.5404 | dice_neg: nan | dice_pos: 0.5404\n",
      "******** New optimal found, saving state ********\n"
     ]
    },
    {
     "name": "stderr",
     "output_type": "stream",
     "text": [
      "  0%|          | 0/334 [00:00<?, ?it/s]"
     ]
    },
    {
     "name": "stdout",
     "output_type": "stream",
     "text": [
      "\n",
      "Starting epoch: 8 | phase: train | ⏰: 15:09:17\n"
     ]
    },
    {
     "name": "stderr",
     "output_type": "stream",
     "text": [
      "100%|██████████| 334/334 [08:18<00:00,  1.49s/it]\n",
      "  0%|          | 0/84 [00:00<?, ?it/s]"
     ]
    },
    {
     "name": "stdout",
     "output_type": "stream",
     "text": [
      "Loss: 0.0193 | IoU: 0.4645 | dice: 0.5717 | dice_neg: nan | dice_pos: 0.5717\n",
      "Starting epoch: 8 | phase: val | ⏰: 15:17:36\n"
     ]
    },
    {
     "name": "stderr",
     "output_type": "stream",
     "text": [
      "100%|██████████| 84/84 [00:57<00:00,  1.46it/s]\n",
      "  0%|          | 0/334 [00:00<?, ?it/s]"
     ]
    },
    {
     "name": "stdout",
     "output_type": "stream",
     "text": [
      "Loss: 0.0217 | IoU: 0.4605 | dice: 0.5642 | dice_neg: nan | dice_pos: 0.5642\n",
      "\n",
      "Starting epoch: 9 | phase: train | ⏰: 15:18:33\n"
     ]
    },
    {
     "name": "stderr",
     "output_type": "stream",
     "text": [
      "100%|██████████| 334/334 [08:17<00:00,  1.49s/it]\n",
      "  0%|          | 0/84 [00:00<?, ?it/s]"
     ]
    },
    {
     "name": "stdout",
     "output_type": "stream",
     "text": [
      "Loss: 0.0187 | IoU: 0.4717 | dice: 0.5779 | dice_neg: nan | dice_pos: 0.5779\n",
      "Starting epoch: 9 | phase: val | ⏰: 15:26:51\n"
     ]
    },
    {
     "name": "stderr",
     "output_type": "stream",
     "text": [
      "100%|██████████| 84/84 [01:01<00:00,  1.36it/s]\n",
      "  0%|          | 0/334 [00:00<?, ?it/s]"
     ]
    },
    {
     "name": "stdout",
     "output_type": "stream",
     "text": [
      "Loss: 0.0216 | IoU: 0.4234 | dice: 0.5291 | dice_neg: nan | dice_pos: 0.5291\n",
      "\n",
      "Starting epoch: 10 | phase: train | ⏰: 15:27:52\n"
     ]
    },
    {
     "name": "stderr",
     "output_type": "stream",
     "text": [
      "100%|██████████| 334/334 [08:06<00:00,  1.46s/it]\n",
      "  0%|          | 0/84 [00:00<?, ?it/s]"
     ]
    },
    {
     "name": "stdout",
     "output_type": "stream",
     "text": [
      "Loss: 0.0181 | IoU: 0.4797 | dice: 0.5873 | dice_neg: nan | dice_pos: 0.5873\n",
      "Starting epoch: 10 | phase: val | ⏰: 15:35:59\n"
     ]
    },
    {
     "name": "stderr",
     "output_type": "stream",
     "text": [
      "100%|██████████| 84/84 [01:01<00:00,  1.36it/s]\n"
     ]
    },
    {
     "name": "stdout",
     "output_type": "stream",
     "text": [
      "Loss: 0.0196 | IoU: 0.4777 | dice: 0.5954 | dice_neg: nan | dice_pos: 0.5954\n",
      "******** New optimal found, saving state ********\n"
     ]
    },
    {
     "name": "stderr",
     "output_type": "stream",
     "text": [
      "  0%|          | 0/334 [00:00<?, ?it/s]"
     ]
    },
    {
     "name": "stdout",
     "output_type": "stream",
     "text": [
      "\n",
      "Starting epoch: 11 | phase: train | ⏰: 15:37:01\n"
     ]
    },
    {
     "name": "stderr",
     "output_type": "stream",
     "text": [
      "100%|██████████| 334/334 [08:05<00:00,  1.46s/it]\n",
      "  0%|          | 0/84 [00:00<?, ?it/s]"
     ]
    },
    {
     "name": "stdout",
     "output_type": "stream",
     "text": [
      "Loss: 0.0175 | IoU: 0.5049 | dice: 0.6208 | dice_neg: nan | dice_pos: 0.6208\n",
      "Starting epoch: 11 | phase: val | ⏰: 15:45:07\n"
     ]
    },
    {
     "name": "stderr",
     "output_type": "stream",
     "text": [
      "100%|██████████| 84/84 [00:56<00:00,  1.47it/s]\n"
     ]
    },
    {
     "name": "stdout",
     "output_type": "stream",
     "text": [
      "Loss: 0.0194 | IoU: 0.5100 | dice: 0.6258 | dice_neg: nan | dice_pos: 0.6258\n",
      "******** New optimal found, saving state ********\n"
     ]
    },
    {
     "name": "stderr",
     "output_type": "stream",
     "text": [
      "  0%|          | 0/334 [00:00<?, ?it/s]"
     ]
    },
    {
     "name": "stdout",
     "output_type": "stream",
     "text": [
      "\n",
      "Starting epoch: 12 | phase: train | ⏰: 15:46:05\n"
     ]
    },
    {
     "name": "stderr",
     "output_type": "stream",
     "text": [
      "100%|██████████| 334/334 [08:14<00:00,  1.48s/it]\n",
      "  0%|          | 0/84 [00:00<?, ?it/s]"
     ]
    },
    {
     "name": "stdout",
     "output_type": "stream",
     "text": [
      "Loss: 0.0183 | IoU: 0.5139 | dice: 0.6321 | dice_neg: nan | dice_pos: 0.6321\n",
      "Starting epoch: 12 | phase: val | ⏰: 15:54:20\n"
     ]
    },
    {
     "name": "stderr",
     "output_type": "stream",
     "text": [
      "100%|██████████| 84/84 [00:57<00:00,  1.45it/s]\n",
      "  0%|          | 0/334 [00:00<?, ?it/s]"
     ]
    },
    {
     "name": "stdout",
     "output_type": "stream",
     "text": [
      "Loss: 0.0233 | IoU: 0.3823 | dice: 0.5080 | dice_neg: nan | dice_pos: 0.5080\n",
      "\n",
      "Starting epoch: 13 | phase: train | ⏰: 15:55:17\n"
     ]
    },
    {
     "name": "stderr",
     "output_type": "stream",
     "text": [
      "100%|██████████| 334/334 [08:01<00:00,  1.44s/it]\n",
      "  0%|          | 0/84 [00:00<?, ?it/s]"
     ]
    },
    {
     "name": "stdout",
     "output_type": "stream",
     "text": [
      "Loss: 0.0166 | IoU: 0.5312 | dice: 0.6501 | dice_neg: nan | dice_pos: 0.6501\n",
      "Starting epoch: 13 | phase: val | ⏰: 16:03:19\n"
     ]
    },
    {
     "name": "stderr",
     "output_type": "stream",
     "text": [
      "100%|██████████| 84/84 [00:56<00:00,  1.49it/s]\n",
      "  0%|          | 0/334 [00:00<?, ?it/s]"
     ]
    },
    {
     "name": "stdout",
     "output_type": "stream",
     "text": [
      "Loss: 0.0202 | IoU: 0.4877 | dice: 0.6063 | dice_neg: nan | dice_pos: 0.6063\n",
      "\n",
      "Starting epoch: 14 | phase: train | ⏰: 16:04:15\n"
     ]
    },
    {
     "name": "stderr",
     "output_type": "stream",
     "text": [
      "100%|██████████| 334/334 [08:09<00:00,  1.47s/it]\n",
      "  0%|          | 0/84 [00:00<?, ?it/s]"
     ]
    },
    {
     "name": "stdout",
     "output_type": "stream",
     "text": [
      "Loss: 0.0157 | IoU: 0.5447 | dice: 0.6641 | dice_neg: nan | dice_pos: 0.6641\n",
      "Starting epoch: 14 | phase: val | ⏰: 16:12:25\n"
     ]
    },
    {
     "name": "stderr",
     "output_type": "stream",
     "text": [
      "100%|██████████| 84/84 [00:57<00:00,  1.46it/s]\n",
      "  0%|          | 0/334 [00:00<?, ?it/s]"
     ]
    },
    {
     "name": "stdout",
     "output_type": "stream",
     "text": [
      "Loss: 0.0202 | IoU: 0.5035 | dice: 0.6226 | dice_neg: nan | dice_pos: 0.6226\n",
      "\n",
      "Starting epoch: 15 | phase: train | ⏰: 16:13:22\n"
     ]
    },
    {
     "name": "stderr",
     "output_type": "stream",
     "text": [
      "100%|██████████| 334/334 [08:05<00:00,  1.45s/it]\n",
      "  0%|          | 0/84 [00:00<?, ?it/s]"
     ]
    },
    {
     "name": "stdout",
     "output_type": "stream",
     "text": [
      "Loss: 0.0151 | IoU: 0.5585 | dice: 0.6778 | dice_neg: nan | dice_pos: 0.6778\n",
      "Starting epoch: 15 | phase: val | ⏰: 16:21:28\n"
     ]
    },
    {
     "name": "stderr",
     "output_type": "stream",
     "text": [
      "100%|██████████| 84/84 [01:01<00:00,  1.37it/s]\n",
      "  0%|          | 0/334 [00:00<?, ?it/s]"
     ]
    },
    {
     "name": "stdout",
     "output_type": "stream",
     "text": [
      "Loss: 0.0209 | IoU: 0.5021 | dice: 0.6220 | dice_neg: nan | dice_pos: 0.6220\n",
      "Epoch    16: reducing learning rate of group 0 to 5.0000e-05.\n",
      "\n",
      "Starting epoch: 16 | phase: train | ⏰: 16:22:30\n"
     ]
    },
    {
     "name": "stderr",
     "output_type": "stream",
     "text": [
      "100%|██████████| 334/334 [08:16<00:00,  1.49s/it]\n",
      "  0%|          | 0/84 [00:00<?, ?it/s]"
     ]
    },
    {
     "name": "stdout",
     "output_type": "stream",
     "text": [
      "Loss: 0.0127 | IoU: 0.6009 | dice: 0.7176 | dice_neg: nan | dice_pos: 0.7176\n",
      "Starting epoch: 16 | phase: val | ⏰: 16:30:46\n"
     ]
    },
    {
     "name": "stderr",
     "output_type": "stream",
     "text": [
      "100%|██████████| 84/84 [00:57<00:00,  1.46it/s]\n"
     ]
    },
    {
     "name": "stdout",
     "output_type": "stream",
     "text": [
      "Loss: 0.0181 | IoU: 0.5496 | dice: 0.6706 | dice_neg: nan | dice_pos: 0.6706\n",
      "******** New optimal found, saving state ********\n"
     ]
    },
    {
     "name": "stderr",
     "output_type": "stream",
     "text": [
      "  0%|          | 0/334 [00:00<?, ?it/s]"
     ]
    },
    {
     "name": "stdout",
     "output_type": "stream",
     "text": [
      "\n",
      "Starting epoch: 17 | phase: train | ⏰: 16:31:44\n"
     ]
    },
    {
     "name": "stderr",
     "output_type": "stream",
     "text": [
      "100%|██████████| 334/334 [08:16<00:00,  1.49s/it]\n",
      "  0%|          | 0/84 [00:00<?, ?it/s]"
     ]
    },
    {
     "name": "stdout",
     "output_type": "stream",
     "text": [
      "Loss: 0.0120 | IoU: 0.6139 | dice: 0.7283 | dice_neg: nan | dice_pos: 0.7283\n",
      "Starting epoch: 17 | phase: val | ⏰: 16:40:00\n"
     ]
    },
    {
     "name": "stderr",
     "output_type": "stream",
     "text": [
      "100%|██████████| 84/84 [01:01<00:00,  1.36it/s]\n",
      "  0%|          | 0/334 [00:00<?, ?it/s]"
     ]
    },
    {
     "name": "stdout",
     "output_type": "stream",
     "text": [
      "Loss: 0.0186 | IoU: 0.5490 | dice: 0.6698 | dice_neg: nan | dice_pos: 0.6698\n",
      "\n",
      "Starting epoch: 18 | phase: train | ⏰: 16:41:02\n"
     ]
    },
    {
     "name": "stderr",
     "output_type": "stream",
     "text": [
      "100%|██████████| 334/334 [08:11<00:00,  1.47s/it]\n",
      "  0%|          | 0/84 [00:00<?, ?it/s]"
     ]
    },
    {
     "name": "stdout",
     "output_type": "stream",
     "text": [
      "Loss: 0.0116 | IoU: 0.6205 | dice: 0.7345 | dice_neg: nan | dice_pos: 0.7345\n",
      "Starting epoch: 18 | phase: val | ⏰: 16:49:13\n"
     ]
    },
    {
     "name": "stderr",
     "output_type": "stream",
     "text": [
      "100%|██████████| 84/84 [01:00<00:00,  1.39it/s]\n",
      "  0%|          | 0/334 [00:00<?, ?it/s]"
     ]
    },
    {
     "name": "stdout",
     "output_type": "stream",
     "text": [
      "Loss: 0.0191 | IoU: 0.5436 | dice: 0.6653 | dice_neg: nan | dice_pos: 0.6653\n",
      "\n",
      "Starting epoch: 19 | phase: train | ⏰: 16:50:14\n"
     ]
    },
    {
     "name": "stderr",
     "output_type": "stream",
     "text": [
      "100%|██████████| 334/334 [08:11<00:00,  1.47s/it]\n",
      "  0%|          | 0/84 [00:00<?, ?it/s]"
     ]
    },
    {
     "name": "stdout",
     "output_type": "stream",
     "text": [
      "Loss: 0.0112 | IoU: 0.6261 | dice: 0.7388 | dice_neg: nan | dice_pos: 0.7388\n",
      "Starting epoch: 19 | phase: val | ⏰: 16:58:25\n"
     ]
    },
    {
     "name": "stderr",
     "output_type": "stream",
     "text": [
      "100%|██████████| 84/84 [00:57<00:00,  1.46it/s]"
     ]
    },
    {
     "name": "stdout",
     "output_type": "stream",
     "text": [
      "Loss: 0.0194 | IoU: 0.5476 | dice: 0.6690 | dice_neg: nan | dice_pos: 0.6690\n",
      "\n"
     ]
    },
    {
     "name": "stderr",
     "output_type": "stream",
     "text": [
      "\n"
     ]
    }
   ],
   "source": [
    "model_trainer = Trainer(model)\n",
    "model_trainer.start()"
   ]
  },
  {
   "cell_type": "code",
   "execution_count": 10,
   "metadata": {
    "scrolled": true
   },
   "outputs": [
    {
     "data": {
      "image/png": "[encoded data removed]",
      "text/plain": [
       "<Figure size 1080x360 with 1 Axes>"
      ]
     },
     "metadata": {
      "needs_background": "light"
     },
     "output_type": "display_data"
    },
    {
     "data": {
      "image/png": "[encoded data removed]",
      "text/plain": [
       "<Figure size 1080x360 with 1 Axes>"
      ]
     },
     "metadata": {
      "needs_background": "light"
     },
     "output_type": "display_data"
    },
    {
     "data": {
      "image/png": "[encoded data removed]",
      "text/plain": [
       "<Figure size 1080x360 with 1 Axes>"
      ]
     },
     "metadata": {
      "needs_background": "light"
     },
     "output_type": "display_data"
    },
    {
     "name": "stdout",
     "output_type": "stream",
     "text": [
      "{'train': [0.14092450871684414, 0.031377821982263805, 0.02692270062551527, 0.024682937914918282, 0.022885970570548565, 0.02265646449753089, 0.02153518591578046, 0.02025642876184272, 0.019278412919023078, 0.018669286742806435, 0.018114798363510095, 0.01749548555803513, 0.018253840402906348, 0.01655738226634389, 0.015671883237096455, 0.01511402234217587, 0.012655680217016154, 0.011970192729356047, 0.011587451779545692, 0.011206571248354402], 'val': [0.03573708834924868, 0.02955333907378926, 0.02356993871563602, 0.027625080641536487, 0.02288967199135749, 0.022669203845517977, 0.025545908193591805, 0.0210470045207157, 0.021668099088683015, 0.021623346400225445, 0.019610273019809808, 0.019402176862405168, 0.02325083937362901, 0.020194215572527832, 0.020190174103758875, 0.020897235932006014, 0.01808692907382335, 0.018579550275933884, 0.019053610424245044, 0.019404741918801198]}\n",
      "{'train': [0.3569189931221527, 0.48117348494912016, 0.5029862518472904, 0.5194444403366548, 0.5408532591303843, 0.5386684111864267, 0.5472591329882087, 0.5624673224465683, 0.5717114141425732, 0.5778635066469273, 0.5873382213491228, 0.620770927617896, 0.632053091142198, 0.6501453434469878, 0.6640543365933662, 0.6777634701275163, 0.7176463433211849, 0.7282996365265758, 0.7345287332563273, 0.7387837999915844], 'val': [0.4047796260942953, 0.3917093400313202, 0.5433832281336438, 0.5032393251220393, 0.4708960422834951, 0.5080445504533001, 0.5338239956483443, 0.5404381427343696, 0.564193216347271, 0.5290967024876904, 0.5953664163631099, 0.6258152879783646, 0.5079958722175464, 0.6063153020812165, 0.6225750725407424, 0.6220325806266817, 0.670646877543801, 0.6698155323032295, 0.6653282297518582, 0.6690281276902494]}\n",
      "{'train': [0.26558583771066435, 0.3707727021557947, 0.39425253224904766, 0.41138583060065614, 0.43290334049840185, 0.430873909037567, 0.43992474907725926, 0.4551737497617595, 0.46454012409992373, 0.4717398026416647, 0.4797188476873312, 0.5049228980944905, 0.5139180600053926, 0.5312135197188014, 0.5446746418430234, 0.558484551876542, 0.6009456020647593, 0.6138828651396903, 0.6205373619544483, 0.626084774902197], 'val': [0.30198035037669435, 0.2989965515740355, 0.4357666901163735, 0.3985452671857235, 0.3752039677609723, 0.40190224925401935, 0.4267645698769894, 0.43441784615564216, 0.4605027340920693, 0.42340191228823815, 0.4776948366191932, 0.5100361309175826, 0.382298470221678, 0.4877205660860065, 0.5034731193925697, 0.5021284734200947, 0.5496496253341244, 0.5489763202613352, 0.5436275839301085, 0.5475668651875484]}\n"
     ]
    }
   ],
   "source": [
    "# PLOT TRAINING\n",
    "losses = model_trainer.losses\n",
    "dice_scores = model_trainer.dice_scores # overall dice\n",
    "iou_scores = model_trainer.iou_scores\n",
    "\n",
    "def plot(scores, name):\n",
    "    plt.figure(figsize=(15,5))\n",
    "    plt.plot(range(len(scores[\"train\"])), scores[\"train\"], label=f'train {name}')\n",
    "    plt.plot(range(len(scores[\"train\"])), scores[\"val\"], label=f'val {name}')\n",
    "    plt.title(f'{name} plot'); plt.xlabel('Epoch'); plt.ylabel(f'{name}');\n",
    "    plt.legend(); \n",
    "    plt.show()\n",
    "\n",
    "plot(losses, \"BCE loss\")\n",
    "plot(dice_scores, \"Dice score\")\n",
    "plot(iou_scores, \"IoU score\")\n",
    "\n",
    "print(losses)\n",
    "print(dice_scores)\n",
    "print(iou_scores)"
   ]
  },
  {
   "cell_type": "code",
   "execution_count": 11,
   "metadata": {},
   "outputs": [
    {
     "name": "stderr",
     "output_type": "stream",
     "text": [
      "  0%|          | 0/334 [00:00<?, ?it/s]"
     ]
    },
    {
     "name": "stdout",
     "output_type": "stream",
     "text": [
      "Starting epoch: 0 | phase: train | ⏰: 17:28:55\n"
     ]
    },
    {
     "name": "stderr",
     "output_type": "stream",
     "text": [
      "100%|██████████| 334/334 [08:08<00:00,  1.46s/it]\n",
      "  0%|          | 0/84 [00:00<?, ?it/s]"
     ]
    },
    {
     "name": "stdout",
     "output_type": "stream",
     "text": [
      "Loss: 0.0138 | IoU: 0.5778 | dice: 0.6948 | dice_neg: nan | dice_pos: 0.6948\n",
      "Starting epoch: 0 | phase: val | ⏰: 17:37:03\n"
     ]
    },
    {
     "name": "stderr",
     "output_type": "stream",
     "text": [
      "100%|██████████| 84/84 [01:00<00:00,  1.38it/s]\n"
     ]
    },
    {
     "name": "stdout",
     "output_type": "stream",
     "text": [
      "Loss: 0.0203 | IoU: 0.5203 | dice: 0.6443 | dice_neg: nan | dice_pos: 0.6443\n",
      "******** New optimal found, saving state ********\n"
     ]
    },
    {
     "name": "stderr",
     "output_type": "stream",
     "text": [
      "  0%|          | 0/334 [00:00<?, ?it/s]"
     ]
    },
    {
     "name": "stdout",
     "output_type": "stream",
     "text": [
      "\n",
      "Starting epoch: 1 | phase: train | ⏰: 17:38:04\n"
     ]
    },
    {
     "name": "stderr",
     "output_type": "stream",
     "text": [
      "100%|██████████| 334/334 [08:12<00:00,  1.47s/it]\n",
      "  0%|          | 0/84 [00:00<?, ?it/s]"
     ]
    },
    {
     "name": "stdout",
     "output_type": "stream",
     "text": [
      "Loss: 0.0142 | IoU: 0.5676 | dice: 0.6847 | dice_neg: nan | dice_pos: 0.6847\n",
      "Starting epoch: 1 | phase: val | ⏰: 17:46:17\n"
     ]
    },
    {
     "name": "stderr",
     "output_type": "stream",
     "text": [
      "100%|██████████| 84/84 [01:01<00:00,  1.37it/s]\n",
      "  0%|          | 0/334 [00:00<?, ?it/s]"
     ]
    },
    {
     "name": "stdout",
     "output_type": "stream",
     "text": [
      "Loss: 0.0210 | IoU: 0.4896 | dice: 0.6053 | dice_neg: nan | dice_pos: 0.6053\n",
      "\n",
      "Starting epoch: 2 | phase: train | ⏰: 17:47:18\n"
     ]
    },
    {
     "name": "stderr",
     "output_type": "stream",
     "text": [
      "100%|██████████| 334/334 [08:13<00:00,  1.48s/it]\n",
      "  0%|          | 0/84 [00:00<?, ?it/s]"
     ]
    },
    {
     "name": "stdout",
     "output_type": "stream",
     "text": [
      "Loss: 0.0127 | IoU: 0.5918 | dice: 0.7077 | dice_neg: nan | dice_pos: 0.7077\n",
      "Starting epoch: 2 | phase: val | ⏰: 17:55:31\n"
     ]
    },
    {
     "name": "stderr",
     "output_type": "stream",
     "text": [
      "100%|██████████| 84/84 [01:01<00:00,  1.37it/s]\n"
     ]
    },
    {
     "name": "stdout",
     "output_type": "stream",
     "text": [
      "Loss: 0.0198 | IoU: 0.5216 | dice: 0.6431 | dice_neg: nan | dice_pos: 0.6431\n",
      "******** New optimal found, saving state ********\n"
     ]
    },
    {
     "name": "stderr",
     "output_type": "stream",
     "text": [
      "  0%|          | 0/334 [00:00<?, ?it/s]"
     ]
    },
    {
     "name": "stdout",
     "output_type": "stream",
     "text": [
      "\n",
      "Starting epoch: 3 | phase: train | ⏰: 17:56:33\n"
     ]
    },
    {
     "name": "stderr",
     "output_type": "stream",
     "text": [
      "100%|██████████| 334/334 [08:14<00:00,  1.48s/it]\n",
      "  0%|          | 0/84 [00:00<?, ?it/s]"
     ]
    },
    {
     "name": "stdout",
     "output_type": "stream",
     "text": [
      "Loss: 0.0125 | IoU: 0.5941 | dice: 0.7095 | dice_neg: nan | dice_pos: 0.7095\n",
      "Starting epoch: 3 | phase: val | ⏰: 18:04:47\n"
     ]
    },
    {
     "name": "stderr",
     "output_type": "stream",
     "text": [
      "100%|██████████| 84/84 [01:00<00:00,  1.39it/s]\n",
      "  0%|          | 0/334 [00:00<?, ?it/s]"
     ]
    },
    {
     "name": "stdout",
     "output_type": "stream",
     "text": [
      "Loss: 0.0212 | IoU: 0.5261 | dice: 0.6485 | dice_neg: nan | dice_pos: 0.6485\n",
      "\n",
      "Starting epoch: 4 | phase: train | ⏰: 18:05:48\n"
     ]
    },
    {
     "name": "stderr",
     "output_type": "stream",
     "text": [
      "100%|██████████| 334/334 [08:11<00:00,  1.47s/it]\n",
      "  0%|          | 0/84 [00:00<?, ?it/s]"
     ]
    },
    {
     "name": "stdout",
     "output_type": "stream",
     "text": [
      "Loss: 0.0129 | IoU: 0.5965 | dice: 0.7133 | dice_neg: nan | dice_pos: 0.7133\n",
      "Starting epoch: 4 | phase: val | ⏰: 18:13:59\n"
     ]
    },
    {
     "name": "stderr",
     "output_type": "stream",
     "text": [
      "100%|██████████| 84/84 [01:01<00:00,  1.38it/s]\n",
      "  0%|          | 0/334 [00:00<?, ?it/s]"
     ]
    },
    {
     "name": "stdout",
     "output_type": "stream",
     "text": [
      "Loss: 0.0208 | IoU: 0.5183 | dice: 0.6396 | dice_neg: nan | dice_pos: 0.6396\n",
      "\n",
      "Starting epoch: 5 | phase: train | ⏰: 18:15:00\n"
     ]
    },
    {
     "name": "stderr",
     "output_type": "stream",
     "text": [
      "100%|██████████| 334/334 [08:14<00:00,  1.48s/it]\n",
      "  0%|          | 0/84 [00:00<?, ?it/s]"
     ]
    },
    {
     "name": "stdout",
     "output_type": "stream",
     "text": [
      "Loss: 0.0114 | IoU: 0.6237 | dice: 0.7407 | dice_neg: nan | dice_pos: 0.7407\n",
      "Starting epoch: 5 | phase: val | ⏰: 18:23:14\n"
     ]
    },
    {
     "name": "stderr",
     "output_type": "stream",
     "text": [
      "100%|██████████| 84/84 [01:01<00:00,  1.38it/s]\n",
      "  0%|          | 0/334 [00:00<?, ?it/s]"
     ]
    },
    {
     "name": "stdout",
     "output_type": "stream",
     "text": [
      "Loss: 0.0214 | IoU: 0.5215 | dice: 0.6427 | dice_neg: nan | dice_pos: 0.6427\n",
      "\n",
      "Starting epoch: 6 | phase: train | ⏰: 18:24:15\n"
     ]
    },
    {
     "name": "stderr",
     "output_type": "stream",
     "text": [
      "100%|██████████| 334/334 [08:13<00:00,  1.48s/it]\n",
      "  0%|          | 0/84 [00:00<?, ?it/s]"
     ]
    },
    {
     "name": "stdout",
     "output_type": "stream",
     "text": [
      "Loss: 0.0108 | IoU: 0.6386 | dice: 0.7543 | dice_neg: nan | dice_pos: 0.7543\n",
      "Starting epoch: 6 | phase: val | ⏰: 18:32:29\n"
     ]
    },
    {
     "name": "stderr",
     "output_type": "stream",
     "text": [
      "100%|██████████| 84/84 [01:01<00:00,  1.38it/s]\n",
      "  0%|          | 0/334 [00:00<?, ?it/s]"
     ]
    },
    {
     "name": "stdout",
     "output_type": "stream",
     "text": [
      "Loss: 0.0219 | IoU: 0.5244 | dice: 0.6462 | dice_neg: nan | dice_pos: 0.6462\n",
      "Epoch     7: reducing learning rate of group 0 to 5.0000e-05.\n",
      "\n",
      "Starting epoch: 7 | phase: train | ⏰: 18:33:30\n"
     ]
    },
    {
     "name": "stderr",
     "output_type": "stream",
     "text": [
      "100%|██████████| 334/334 [08:13<00:00,  1.48s/it]\n",
      "  0%|          | 0/84 [00:00<?, ?it/s]"
     ]
    },
    {
     "name": "stdout",
     "output_type": "stream",
     "text": [
      "Loss: 0.0091 | IoU: 0.6778 | dice: 0.7879 | dice_neg: nan | dice_pos: 0.7879\n",
      "Starting epoch: 7 | phase: val | ⏰: 18:41:43\n"
     ]
    },
    {
     "name": "stderr",
     "output_type": "stream",
     "text": [
      "100%|██████████| 84/84 [01:00<00:00,  1.38it/s]\n",
      "  0%|          | 0/334 [00:00<?, ?it/s]"
     ]
    },
    {
     "name": "stdout",
     "output_type": "stream",
     "text": [
      "Loss: 0.0207 | IoU: 0.5564 | dice: 0.6821 | dice_neg: nan | dice_pos: 0.6821\n",
      "\n",
      "Starting epoch: 8 | phase: train | ⏰: 18:42:44\n"
     ]
    },
    {
     "name": "stderr",
     "output_type": "stream",
     "text": [
      "100%|██████████| 334/334 [08:01<00:00,  1.44s/it]\n",
      "  0%|          | 0/84 [00:00<?, ?it/s]"
     ]
    },
    {
     "name": "stdout",
     "output_type": "stream",
     "text": [
      "Loss: 0.0085 | IoU: 0.6950 | dice: 0.8034 | dice_neg: nan | dice_pos: 0.8034\n",
      "Starting epoch: 8 | phase: val | ⏰: 18:50:46\n"
     ]
    },
    {
     "name": "stderr",
     "output_type": "stream",
     "text": [
      "100%|██████████| 84/84 [00:59<00:00,  1.42it/s]\n",
      "  0%|          | 0/334 [00:00<?, ?it/s]"
     ]
    },
    {
     "name": "stdout",
     "output_type": "stream",
     "text": [
      "Loss: 0.0213 | IoU: 0.5607 | dice: 0.6852 | dice_neg: nan | dice_pos: 0.6852\n",
      "\n",
      "Starting epoch: 9 | phase: train | ⏰: 18:51:45\n"
     ]
    },
    {
     "name": "stderr",
     "output_type": "stream",
     "text": [
      "100%|██████████| 334/334 [08:10<00:00,  1.47s/it]\n",
      "  0%|          | 0/84 [00:00<?, ?it/s]"
     ]
    },
    {
     "name": "stdout",
     "output_type": "stream",
     "text": [
      "Loss: 0.0081 | IoU: 0.7028 | dice: 0.8093 | dice_neg: nan | dice_pos: 0.8093\n",
      "Starting epoch: 9 | phase: val | ⏰: 18:59:55\n"
     ]
    },
    {
     "name": "stderr",
     "output_type": "stream",
     "text": [
      "100%|██████████| 84/84 [01:01<00:00,  1.37it/s]\n",
      "  0%|          | 0/334 [00:00<?, ?it/s]"
     ]
    },
    {
     "name": "stdout",
     "output_type": "stream",
     "text": [
      "Loss: 0.0219 | IoU: 0.5612 | dice: 0.6867 | dice_neg: nan | dice_pos: 0.6867\n",
      "\n",
      "Starting epoch: 10 | phase: train | ⏰: 19:00:57\n"
     ]
    },
    {
     "name": "stderr",
     "output_type": "stream",
     "text": [
      "100%|██████████| 334/334 [08:08<00:00,  1.46s/it]\n",
      "  0%|          | 0/84 [00:00<?, ?it/s]"
     ]
    },
    {
     "name": "stdout",
     "output_type": "stream",
     "text": [
      "Loss: 0.0078 | IoU: 0.7085 | dice: 0.8139 | dice_neg: nan | dice_pos: 0.8139\n",
      "Starting epoch: 10 | phase: val | ⏰: 19:09:05\n"
     ]
    },
    {
     "name": "stderr",
     "output_type": "stream",
     "text": [
      "100%|██████████| 84/84 [00:59<00:00,  1.41it/s]\n",
      "  0%|          | 0/334 [00:00<?, ?it/s]"
     ]
    },
    {
     "name": "stdout",
     "output_type": "stream",
     "text": [
      "Loss: 0.0216 | IoU: 0.5610 | dice: 0.6856 | dice_neg: nan | dice_pos: 0.6856\n",
      "Epoch    11: reducing learning rate of group 0 to 5.0000e-06.\n",
      "\n",
      "Starting epoch: 11 | phase: train | ⏰: 19:10:04\n"
     ]
    },
    {
     "name": "stderr",
     "output_type": "stream",
     "text": [
      "100%|██████████| 334/334 [08:07<00:00,  1.46s/it]\n",
      "  0%|          | 0/84 [00:00<?, ?it/s]"
     ]
    },
    {
     "name": "stdout",
     "output_type": "stream",
     "text": [
      "Loss: 0.0076 | IoU: 0.7146 | dice: 0.8189 | dice_neg: nan | dice_pos: 0.8189\n",
      "Starting epoch: 11 | phase: val | ⏰: 19:18:12\n"
     ]
    },
    {
     "name": "stderr",
     "output_type": "stream",
     "text": [
      "100%|██████████| 84/84 [01:01<00:00,  1.38it/s]\n",
      "  0%|          | 0/334 [00:00<?, ?it/s]"
     ]
    },
    {
     "name": "stdout",
     "output_type": "stream",
     "text": [
      "Loss: 0.0222 | IoU: 0.5613 | dice: 0.6860 | dice_neg: nan | dice_pos: 0.6860\n",
      "\n",
      "Starting epoch: 12 | phase: train | ⏰: 19:19:13\n"
     ]
    },
    {
     "name": "stderr",
     "output_type": "stream",
     "text": [
      "100%|██████████| 334/334 [08:12<00:00,  1.47s/it]\n",
      "  0%|          | 0/84 [00:00<?, ?it/s]"
     ]
    },
    {
     "name": "stdout",
     "output_type": "stream",
     "text": [
      "Loss: 0.0075 | IoU: 0.7166 | dice: 0.8203 | dice_neg: nan | dice_pos: 0.8203\n",
      "Starting epoch: 12 | phase: val | ⏰: 19:27:25\n"
     ]
    },
    {
     "name": "stderr",
     "output_type": "stream",
     "text": [
      "100%|██████████| 84/84 [01:00<00:00,  1.38it/s]\n",
      "  0%|          | 0/334 [00:00<?, ?it/s]"
     ]
    },
    {
     "name": "stdout",
     "output_type": "stream",
     "text": [
      "Loss: 0.0221 | IoU: 0.5614 | dice: 0.6861 | dice_neg: nan | dice_pos: 0.6861\n",
      "\n",
      "Starting epoch: 13 | phase: train | ⏰: 19:28:26\n"
     ]
    },
    {
     "name": "stderr",
     "output_type": "stream",
     "text": [
      "100%|██████████| 334/334 [08:12<00:00,  1.47s/it]\n",
      "  0%|          | 0/84 [00:00<?, ?it/s]"
     ]
    },
    {
     "name": "stdout",
     "output_type": "stream",
     "text": [
      "Loss: 0.0075 | IoU: 0.7167 | dice: 0.8214 | dice_neg: nan | dice_pos: 0.8214\n",
      "Starting epoch: 13 | phase: val | ⏰: 19:36:39\n"
     ]
    },
    {
     "name": "stderr",
     "output_type": "stream",
     "text": [
      "100%|██████████| 84/84 [01:00<00:00,  1.38it/s]\n",
      "  0%|          | 0/334 [00:00<?, ?it/s]"
     ]
    },
    {
     "name": "stdout",
     "output_type": "stream",
     "text": [
      "Loss: 0.0227 | IoU: 0.5597 | dice: 0.6855 | dice_neg: nan | dice_pos: 0.6855\n",
      "\n",
      "Starting epoch: 14 | phase: train | ⏰: 19:37:40\n"
     ]
    },
    {
     "name": "stderr",
     "output_type": "stream",
     "text": [
      "100%|██████████| 334/334 [07:58<00:00,  1.43s/it]\n",
      "  0%|          | 0/84 [00:00<?, ?it/s]"
     ]
    },
    {
     "name": "stdout",
     "output_type": "stream",
     "text": [
      "Loss: 0.0074 | IoU: 0.7193 | dice: 0.8228 | dice_neg: nan | dice_pos: 0.8228\n",
      "Starting epoch: 14 | phase: val | ⏰: 19:45:38\n"
     ]
    },
    {
     "name": "stderr",
     "output_type": "stream",
     "text": [
      "100%|██████████| 84/84 [01:00<00:00,  1.38it/s]\n",
      "  0%|          | 0/334 [00:00<?, ?it/s]"
     ]
    },
    {
     "name": "stdout",
     "output_type": "stream",
     "text": [
      "Loss: 0.0227 | IoU: 0.5605 | dice: 0.6859 | dice_neg: nan | dice_pos: 0.6859\n",
      "Epoch    15: reducing learning rate of group 0 to 5.0000e-07.\n",
      "\n",
      "Starting epoch: 15 | phase: train | ⏰: 19:46:39\n"
     ]
    },
    {
     "name": "stderr",
     "output_type": "stream",
     "text": [
      "100%|██████████| 334/334 [08:11<00:00,  1.47s/it]\n",
      "  0%|          | 0/84 [00:00<?, ?it/s]"
     ]
    },
    {
     "name": "stdout",
     "output_type": "stream",
     "text": [
      "Loss: 0.0074 | IoU: 0.7192 | dice: 0.8227 | dice_neg: nan | dice_pos: 0.8227\n",
      "Starting epoch: 15 | phase: val | ⏰: 19:54:51\n"
     ]
    },
    {
     "name": "stderr",
     "output_type": "stream",
     "text": [
      "100%|██████████| 84/84 [01:01<00:00,  1.37it/s]\n",
      "  0%|          | 0/334 [00:00<?, ?it/s]"
     ]
    },
    {
     "name": "stdout",
     "output_type": "stream",
     "text": [
      "Loss: 0.0226 | IoU: 0.5620 | dice: 0.6885 | dice_neg: nan | dice_pos: 0.6885\n",
      "\n",
      "Starting epoch: 16 | phase: train | ⏰: 19:55:52\n"
     ]
    },
    {
     "name": "stderr",
     "output_type": "stream",
     "text": [
      "100%|██████████| 334/334 [08:06<00:00,  1.46s/it]\n",
      "  0%|          | 0/84 [00:00<?, ?it/s]"
     ]
    },
    {
     "name": "stdout",
     "output_type": "stream",
     "text": [
      "Loss: 0.0074 | IoU: 0.7204 | dice: 0.8235 | dice_neg: nan | dice_pos: 0.8235\n",
      "Starting epoch: 16 | phase: val | ⏰: 20:03:59\n"
     ]
    },
    {
     "name": "stderr",
     "output_type": "stream",
     "text": [
      "100%|██████████| 84/84 [00:59<00:00,  1.41it/s]\n",
      "  0%|          | 0/334 [00:00<?, ?it/s]"
     ]
    },
    {
     "name": "stdout",
     "output_type": "stream",
     "text": [
      "Loss: 0.0229 | IoU: 0.5596 | dice: 0.6859 | dice_neg: nan | dice_pos: 0.6859\n",
      "\n",
      "Starting epoch: 17 | phase: train | ⏰: 20:04:59\n"
     ]
    },
    {
     "name": "stderr",
     "output_type": "stream",
     "text": [
      "100%|██████████| 334/334 [07:54<00:00,  1.42s/it]\n",
      "  0%|          | 0/84 [00:00<?, ?it/s]"
     ]
    },
    {
     "name": "stdout",
     "output_type": "stream",
     "text": [
      "Loss: 0.0074 | IoU: 0.7192 | dice: 0.8227 | dice_neg: nan | dice_pos: 0.8227\n",
      "Starting epoch: 17 | phase: val | ⏰: 20:12:53\n"
     ]
    },
    {
     "name": "stderr",
     "output_type": "stream",
     "text": [
      "100%|██████████| 84/84 [00:59<00:00,  1.41it/s]\n",
      "  0%|          | 0/334 [00:00<?, ?it/s]"
     ]
    },
    {
     "name": "stdout",
     "output_type": "stream",
     "text": [
      "Loss: 0.0227 | IoU: 0.5586 | dice: 0.6845 | dice_neg: nan | dice_pos: 0.6845\n",
      "\n",
      "Starting epoch: 18 | phase: train | ⏰: 20:13:53\n"
     ]
    },
    {
     "name": "stderr",
     "output_type": "stream",
     "text": [
      "100%|██████████| 334/334 [08:12<00:00,  1.47s/it]\n",
      "  0%|          | 0/84 [00:00<?, ?it/s]"
     ]
    },
    {
     "name": "stdout",
     "output_type": "stream",
     "text": [
      "Loss: 0.0074 | IoU: 0.7190 | dice: 0.8228 | dice_neg: nan | dice_pos: 0.8228\n",
      "Starting epoch: 18 | phase: val | ⏰: 20:22:05\n"
     ]
    },
    {
     "name": "stderr",
     "output_type": "stream",
     "text": [
      "100%|██████████| 84/84 [01:00<00:00,  1.38it/s]\n",
      "  0%|          | 0/334 [00:00<?, ?it/s]"
     ]
    },
    {
     "name": "stdout",
     "output_type": "stream",
     "text": [
      "Loss: 0.0231 | IoU: 0.5597 | dice: 0.6839 | dice_neg: nan | dice_pos: 0.6839\n",
      "Epoch    19: reducing learning rate of group 0 to 5.0000e-08.\n",
      "\n",
      "Starting epoch: 19 | phase: train | ⏰: 20:23:06\n"
     ]
    },
    {
     "name": "stderr",
     "output_type": "stream",
     "text": [
      "100%|██████████| 334/334 [08:11<00:00,  1.47s/it]\n",
      "  0%|          | 0/84 [00:00<?, ?it/s]"
     ]
    },
    {
     "name": "stdout",
     "output_type": "stream",
     "text": [
      "Loss: 0.0074 | IoU: 0.7204 | dice: 0.8234 | dice_neg: nan | dice_pos: 0.8234\n",
      "Starting epoch: 19 | phase: val | ⏰: 20:31:17\n"
     ]
    },
    {
     "name": "stderr",
     "output_type": "stream",
     "text": [
      "100%|██████████| 84/84 [01:00<00:00,  1.38it/s]"
     ]
    },
    {
     "name": "stdout",
     "output_type": "stream",
     "text": [
      "Loss: 0.0232 | IoU: 0.5592 | dice: 0.6834 | dice_neg: nan | dice_pos: 0.6834\n",
      "\n"
     ]
    },
    {
     "name": "stderr",
     "output_type": "stream",
     "text": [
      "\n"
     ]
    }
   ],
   "source": [
    "model_trainer = Trainer(model)\n",
    "model_trainer.start()"
   ]
  },
  {
   "cell_type": "code",
   "execution_count": 12,
   "metadata": {},
   "outputs": [
    {
     "data": {
      "image/png": "[encoded data removed]",
      "text/plain": [
       "<Figure size 1080x360 with 1 Axes>"
      ]
     },
     "metadata": {
      "needs_background": "light"
     },
     "output_type": "display_data"
    },
    {
     "data": {
      "image/png": "[encoded data removed]",
      "text/plain": [
       "<Figure size 1080x360 with 1 Axes>"
      ]
     },
     "metadata": {
      "needs_background": "light"
     },
     "output_type": "display_data"
    },
    {
     "data": {
      "image/png": "[encoded data removed]",
      "text/plain": [
       "<Figure size 1080x360 with 1 Axes>"
      ]
     },
     "metadata": {
      "needs_background": "light"
     },
     "output_type": "display_data"
    },
    {
     "name": "stdout",
     "output_type": "stream",
     "text": [
      "{'train': [0.013780574508089416, 0.014249926685316567, 0.012713480307190807, 0.012515724214173095, 0.012899852901541008, 0.011409704378265106, 0.010759953553035499, 0.009103173236669359, 0.008475531315051778, 0.008089031941190495, 0.007848391427190049, 0.0076337766395826005, 0.007542115388003117, 0.00751846904021515, 0.007391823570712464, 0.007436380073327772, 0.007405897961444261, 0.0073743966613020635, 0.007412221477907932, 0.007415284637590413], 'val': [0.020330959188175343, 0.021008167571077745, 0.019787717682664237, 0.02116799010850844, 0.02080149324389086, 0.02138100445292713, 0.021863898750217187, 0.020702356949359887, 0.021285577400010965, 0.021905645661588227, 0.02162478899671918, 0.02216693365369879, 0.022085956658147984, 0.02270691800818202, 0.022742907888078617, 0.022619235595422133, 0.022855764875809353, 0.02269873730394812, 0.023064588972677786, 0.023152248507055145]}\n",
      "{'train': [0.6948333722190458, 0.6846509014514325, 0.7077427070962053, 0.7095378441567222, 0.7132984270481842, 0.7406591036160617, 0.7543342323297247, 0.7878929369198053, 0.8033914133827416, 0.8092983762965247, 0.813865139209564, 0.8188916180932678, 0.8202619165220563, 0.8214077449142402, 0.8227943052151376, 0.8226909956406884, 0.8234953030013596, 0.8227441832038507, 0.8228364052941876, 0.8233831437722157], 'val': [0.6443337616105766, 0.6052648579391806, 0.643133451249063, 0.6485173294151054, 0.6395902135472248, 0.6426825199127505, 0.646171309999096, 0.6820623402069588, 0.6851538014521396, 0.6866546682503795, 0.6856146013694766, 0.6859754015045099, 0.6861345321975014, 0.6854656388570528, 0.6859020411233785, 0.6884536020947492, 0.6858818995378174, 0.6845116799247327, 0.6839086563568848, 0.683424551698981]}\n",
      "{'train': [0.5777860157705568, 0.5675835395476909, 0.5917589254074831, 0.5941487944140266, 0.5964690077242024, 0.623650243354567, 0.6385522687942523, 0.6777544207775262, 0.695023309700944, 0.7027509103446146, 0.7084858581987383, 0.7146078888856162, 0.7166027337638575, 0.7166959079089792, 0.7192511331399708, 0.7192132295512239, 0.7204373615605635, 0.7191512573992463, 0.718969588088423, 0.7203844196286546], 'val': [0.5202570939048751, 0.48963014735080096, 0.5215573771005287, 0.5260517140971761, 0.518256627138833, 0.5215460226528651, 0.5243835832069915, 0.55639757814256, 0.5606538826992934, 0.56115389206953, 0.5610351692777916, 0.5613356142061361, 0.5614235561111806, 0.5597404139884167, 0.5605434079304905, 0.5619914522554915, 0.5595631473097594, 0.558565680456137, 0.5597339693761584, 0.5592076321435255]}\n"
     ]
    }
   ],
   "source": [
    "# PLOT TRAINING\n",
    "losses = model_trainer.losses\n",
    "dice_scores = model_trainer.dice_scores # overall dice\n",
    "iou_scores = model_trainer.iou_scores\n",
    "\n",
    "def plot(scores, name):\n",
    "    plt.figure(figsize=(15,5))\n",
    "    plt.plot(range(len(scores[\"train\"])), scores[\"train\"], label=f'train {name}')\n",
    "    plt.plot(range(len(scores[\"train\"])), scores[\"val\"], label=f'val {name}')\n",
    "    plt.title(f'{name} plot'); plt.xlabel('Epoch'); plt.ylabel(f'{name}');\n",
    "    plt.legend(); \n",
    "    plt.show()\n",
    "\n",
    "plot(losses, \"BCE loss\")\n",
    "plot(dice_scores, \"Dice score\")\n",
    "plot(iou_scores, \"IoU score\")\n",
    "\n",
    "print(losses)\n",
    "print(dice_scores)\n",
    "print(iou_scores)"
   ]
  },
  {
   "cell_type": "code",
   "execution_count": 13,
   "metadata": {},
   "outputs": [
    {
     "name": "stderr",
     "output_type": "stream",
     "text": [
      "  0%|          | 0/334 [00:00<?, ?it/s]"
     ]
    },
    {
     "name": "stdout",
     "output_type": "stream",
     "text": [
      "Starting epoch: 0 | phase: train | ⏰: 20:43:00\n"
     ]
    },
    {
     "name": "stderr",
     "output_type": "stream",
     "text": [
      "100%|██████████| 334/334 [07:59<00:00,  1.43s/it]\n",
      "  0%|          | 0/84 [00:00<?, ?it/s]"
     ]
    },
    {
     "name": "stdout",
     "output_type": "stream",
     "text": [
      "Loss: 0.0105 | IoU: 0.6467 | dice: 0.7619 | dice_neg: nan | dice_pos: 0.7619\n",
      "Starting epoch: 0 | phase: val | ⏰: 20:50:59\n"
     ]
    },
    {
     "name": "stderr",
     "output_type": "stream",
     "text": [
      "100%|██████████| 84/84 [01:00<00:00,  1.38it/s]\n"
     ]
    },
    {
     "name": "stdout",
     "output_type": "stream",
     "text": [
      "Loss: 0.0216 | IoU: 0.5339 | dice: 0.6571 | dice_neg: nan | dice_pos: 0.6571\n",
      "******** New optimal found, saving state ********\n"
     ]
    },
    {
     "name": "stderr",
     "output_type": "stream",
     "text": [
      "  0%|          | 0/334 [00:00<?, ?it/s]"
     ]
    },
    {
     "name": "stdout",
     "output_type": "stream",
     "text": [
      "\n",
      "Starting epoch: 1 | phase: train | ⏰: 20:52:01\n"
     ]
    },
    {
     "name": "stderr",
     "output_type": "stream",
     "text": [
      "100%|██████████| 334/334 [08:14<00:00,  1.48s/it]\n",
      "  0%|          | 0/84 [00:00<?, ?it/s]"
     ]
    },
    {
     "name": "stdout",
     "output_type": "stream",
     "text": [
      "Loss: 0.0095 | IoU: 0.6649 | dice: 0.7772 | dice_neg: nan | dice_pos: 0.7772\n",
      "Starting epoch: 1 | phase: val | ⏰: 21:00:15\n"
     ]
    },
    {
     "name": "stderr",
     "output_type": "stream",
     "text": [
      "100%|██████████| 84/84 [01:00<00:00,  1.38it/s]\n",
      "  0%|          | 0/334 [00:00<?, ?it/s]"
     ]
    },
    {
     "name": "stdout",
     "output_type": "stream",
     "text": [
      "Loss: 0.0248 | IoU: 0.5384 | dice: 0.6628 | dice_neg: nan | dice_pos: 0.6628\n",
      "\n",
      "Starting epoch: 2 | phase: train | ⏰: 21:01:15\n"
     ]
    },
    {
     "name": "stderr",
     "output_type": "stream",
     "text": [
      "100%|██████████| 334/334 [08:11<00:00,  1.47s/it]\n",
      "  0%|          | 0/84 [00:00<?, ?it/s]"
     ]
    },
    {
     "name": "stdout",
     "output_type": "stream",
     "text": [
      "Loss: 0.0111 | IoU: 0.6406 | dice: 0.7559 | dice_neg: nan | dice_pos: 0.7559\n",
      "Starting epoch: 2 | phase: val | ⏰: 21:09:27\n"
     ]
    },
    {
     "name": "stderr",
     "output_type": "stream",
     "text": [
      "100%|██████████| 84/84 [01:00<00:00,  1.39it/s]\n",
      "  0%|          | 0/334 [00:00<?, ?it/s]"
     ]
    },
    {
     "name": "stdout",
     "output_type": "stream",
     "text": [
      "Loss: 0.0238 | IoU: 0.5296 | dice: 0.6532 | dice_neg: nan | dice_pos: 0.6532\n",
      "\n",
      "Starting epoch: 3 | phase: train | ⏰: 21:10:28\n"
     ]
    },
    {
     "name": "stderr",
     "output_type": "stream",
     "text": [
      "100%|██████████| 334/334 [08:12<00:00,  1.48s/it]\n",
      "  0%|          | 0/84 [00:00<?, ?it/s]"
     ]
    },
    {
     "name": "stdout",
     "output_type": "stream",
     "text": [
      "Loss: 0.0088 | IoU: 0.6807 | dice: 0.7899 | dice_neg: nan | dice_pos: 0.7899\n",
      "Starting epoch: 3 | phase: val | ⏰: 21:18:41\n"
     ]
    },
    {
     "name": "stderr",
     "output_type": "stream",
     "text": [
      "100%|██████████| 84/84 [01:01<00:00,  1.37it/s]\n",
      "  0%|          | 0/334 [00:00<?, ?it/s]"
     ]
    },
    {
     "name": "stdout",
     "output_type": "stream",
     "text": [
      "Loss: 0.0235 | IoU: 0.5514 | dice: 0.6782 | dice_neg: nan | dice_pos: 0.6782\n",
      "\n",
      "Starting epoch: 4 | phase: train | ⏰: 21:19:42\n"
     ]
    },
    {
     "name": "stderr",
     "output_type": "stream",
     "text": [
      "100%|██████████| 334/334 [08:11<00:00,  1.47s/it]\n",
      "  0%|          | 0/84 [00:00<?, ?it/s]"
     ]
    },
    {
     "name": "stdout",
     "output_type": "stream",
     "text": [
      "Loss: 0.0082 | IoU: 0.6991 | dice: 0.8069 | dice_neg: nan | dice_pos: 0.8069\n",
      "Starting epoch: 4 | phase: val | ⏰: 21:27:53\n"
     ]
    },
    {
     "name": "stderr",
     "output_type": "stream",
     "text": [
      "100%|██████████| 84/84 [01:00<00:00,  1.38it/s]\n",
      "  0%|          | 0/334 [00:00<?, ?it/s]"
     ]
    },
    {
     "name": "stdout",
     "output_type": "stream",
     "text": [
      "Loss: 0.0239 | IoU: 0.5426 | dice: 0.6689 | dice_neg: nan | dice_pos: 0.6689\n",
      "Epoch     5: reducing learning rate of group 0 to 5.0000e-05.\n",
      "\n",
      "Starting epoch: 5 | phase: train | ⏰: 21:28:54\n"
     ]
    },
    {
     "name": "stderr",
     "output_type": "stream",
     "text": [
      "100%|██████████| 334/334 [08:13<00:00,  1.48s/it]\n",
      "  0%|          | 0/84 [00:00<?, ?it/s]"
     ]
    },
    {
     "name": "stdout",
     "output_type": "stream",
     "text": [
      "Loss: 0.0072 | IoU: 0.7281 | dice: 0.8299 | dice_neg: nan | dice_pos: 0.8299\n",
      "Starting epoch: 5 | phase: val | ⏰: 21:37:07\n"
     ]
    },
    {
     "name": "stderr",
     "output_type": "stream",
     "text": [
      "100%|██████████| 84/84 [01:00<00:00,  1.38it/s]\n",
      "  0%|          | 0/334 [00:00<?, ?it/s]"
     ]
    },
    {
     "name": "stdout",
     "output_type": "stream",
     "text": [
      "Loss: 0.0233 | IoU: 0.5513 | dice: 0.6766 | dice_neg: nan | dice_pos: 0.6766\n",
      "\n",
      "Starting epoch: 6 | phase: train | ⏰: 21:38:08\n"
     ]
    },
    {
     "name": "stderr",
     "output_type": "stream",
     "text": [
      "100%|██████████| 334/334 [08:01<00:00,  1.44s/it]\n",
      "  0%|          | 0/84 [00:00<?, ?it/s]"
     ]
    },
    {
     "name": "stdout",
     "output_type": "stream",
     "text": [
      "Loss: 0.0066 | IoU: 0.7411 | dice: 0.8395 | dice_neg: nan | dice_pos: 0.8395\n",
      "Starting epoch: 6 | phase: val | ⏰: 21:46:10\n"
     ]
    },
    {
     "name": "stderr",
     "output_type": "stream",
     "text": [
      "100%|██████████| 84/84 [01:00<00:00,  1.40it/s]\n",
      "  0%|          | 0/334 [00:00<?, ?it/s]"
     ]
    },
    {
     "name": "stdout",
     "output_type": "stream",
     "text": [
      "Loss: 0.0235 | IoU: 0.5580 | dice: 0.6851 | dice_neg: nan | dice_pos: 0.6851\n",
      "\n",
      "Starting epoch: 7 | phase: train | ⏰: 21:47:10\n"
     ]
    },
    {
     "name": "stderr",
     "output_type": "stream",
     "text": [
      "100%|██████████| 334/334 [08:12<00:00,  1.47s/it]\n",
      "  0%|          | 0/84 [00:00<?, ?it/s]"
     ]
    },
    {
     "name": "stdout",
     "output_type": "stream",
     "text": [
      "Loss: 0.0064 | IoU: 0.7475 | dice: 0.8440 | dice_neg: nan | dice_pos: 0.8440\n",
      "Starting epoch: 7 | phase: val | ⏰: 21:55:23\n"
     ]
    },
    {
     "name": "stderr",
     "output_type": "stream",
     "text": [
      "100%|██████████| 84/84 [01:00<00:00,  1.39it/s]\n",
      "  0%|          | 0/334 [00:00<?, ?it/s]"
     ]
    },
    {
     "name": "stdout",
     "output_type": "stream",
     "text": [
      "Loss: 0.0247 | IoU: 0.5608 | dice: 0.6882 | dice_neg: nan | dice_pos: 0.6882\n",
      "\n",
      "Starting epoch: 8 | phase: train | ⏰: 21:56:23\n"
     ]
    },
    {
     "name": "stderr",
     "output_type": "stream",
     "text": [
      "100%|██████████| 334/334 [08:05<00:00,  1.45s/it]\n",
      "  0%|          | 0/84 [00:00<?, ?it/s]"
     ]
    },
    {
     "name": "stdout",
     "output_type": "stream",
     "text": [
      "Loss: 0.0061 | IoU: 0.7529 | dice: 0.8481 | dice_neg: nan | dice_pos: 0.8481\n",
      "Starting epoch: 8 | phase: val | ⏰: 22:04:29\n"
     ]
    },
    {
     "name": "stderr",
     "output_type": "stream",
     "text": [
      "100%|██████████| 84/84 [00:59<00:00,  1.41it/s]\n",
      "  0%|          | 0/334 [00:00<?, ?it/s]"
     ]
    },
    {
     "name": "stdout",
     "output_type": "stream",
     "text": [
      "Loss: 0.0254 | IoU: 0.5601 | dice: 0.6872 | dice_neg: nan | dice_pos: 0.6872\n",
      "Epoch     9: reducing learning rate of group 0 to 5.0000e-06.\n",
      "\n",
      "Starting epoch: 9 | phase: train | ⏰: 22:05:28\n"
     ]
    },
    {
     "name": "stderr",
     "output_type": "stream",
     "text": [
      "100%|██████████| 334/334 [07:51<00:00,  1.41s/it]\n",
      "  0%|          | 0/84 [00:00<?, ?it/s]"
     ]
    },
    {
     "name": "stdout",
     "output_type": "stream",
     "text": [
      "Loss: 0.0060 | IoU: 0.7590 | dice: 0.8526 | dice_neg: nan | dice_pos: 0.8526\n",
      "Starting epoch: 9 | phase: val | ⏰: 22:13:20\n"
     ]
    },
    {
     "name": "stderr",
     "output_type": "stream",
     "text": [
      "100%|██████████| 84/84 [00:59<00:00,  1.41it/s]\n",
      "  0%|          | 0/334 [00:00<?, ?it/s]"
     ]
    },
    {
     "name": "stdout",
     "output_type": "stream",
     "text": [
      "Loss: 0.0257 | IoU: 0.5557 | dice: 0.6808 | dice_neg: nan | dice_pos: 0.6808\n",
      "\n",
      "Starting epoch: 10 | phase: train | ⏰: 22:14:19\n"
     ]
    },
    {
     "name": "stderr",
     "output_type": "stream",
     "text": [
      "100%|██████████| 334/334 [07:52<00:00,  1.41s/it]\n",
      "  0%|          | 0/84 [00:00<?, ?it/s]"
     ]
    },
    {
     "name": "stdout",
     "output_type": "stream",
     "text": [
      "Loss: 0.0058 | IoU: 0.7605 | dice: 0.8535 | dice_neg: nan | dice_pos: 0.8535\n",
      "Starting epoch: 10 | phase: val | ⏰: 22:22:11\n"
     ]
    },
    {
     "name": "stderr",
     "output_type": "stream",
     "text": [
      "100%|██████████| 84/84 [00:59<00:00,  1.41it/s]\n",
      "  0%|          | 0/334 [00:00<?, ?it/s]"
     ]
    },
    {
     "name": "stdout",
     "output_type": "stream",
     "text": [
      "Loss: 0.0260 | IoU: 0.5615 | dice: 0.6885 | dice_neg: nan | dice_pos: 0.6885\n",
      "\n",
      "Starting epoch: 11 | phase: train | ⏰: 22:23:11\n"
     ]
    },
    {
     "name": "stderr",
     "output_type": "stream",
     "text": [
      "100%|██████████| 334/334 [08:01<00:00,  1.44s/it]\n",
      "  0%|          | 0/84 [00:00<?, ?it/s]"
     ]
    },
    {
     "name": "stdout",
     "output_type": "stream",
     "text": [
      "Loss: 0.0058 | IoU: 0.7616 | dice: 0.8545 | dice_neg: nan | dice_pos: 0.8545\n",
      "Starting epoch: 11 | phase: val | ⏰: 22:31:13\n"
     ]
    },
    {
     "name": "stderr",
     "output_type": "stream",
     "text": [
      "100%|██████████| 84/84 [01:00<00:00,  1.39it/s]\n",
      "  0%|          | 0/334 [00:00<?, ?it/s]"
     ]
    },
    {
     "name": "stdout",
     "output_type": "stream",
     "text": [
      "Loss: 0.0254 | IoU: 0.5623 | dice: 0.6887 | dice_neg: nan | dice_pos: 0.6887\n",
      "\n",
      "Starting epoch: 12 | phase: train | ⏰: 22:32:13\n"
     ]
    },
    {
     "name": "stderr",
     "output_type": "stream",
     "text": [
      "100%|██████████| 334/334 [07:50<00:00,  1.41s/it]\n",
      "  0%|          | 0/84 [00:00<?, ?it/s]"
     ]
    },
    {
     "name": "stdout",
     "output_type": "stream",
     "text": [
      "Loss: 0.0058 | IoU: 0.7630 | dice: 0.8555 | dice_neg: nan | dice_pos: 0.8555\n",
      "Starting epoch: 12 | phase: val | ⏰: 22:40:03\n"
     ]
    },
    {
     "name": "stderr",
     "output_type": "stream",
     "text": [
      "100%|██████████| 84/84 [00:59<00:00,  1.41it/s]\n",
      "  0%|          | 0/334 [00:00<?, ?it/s]"
     ]
    },
    {
     "name": "stdout",
     "output_type": "stream",
     "text": [
      "Loss: 0.0257 | IoU: 0.5633 | dice: 0.6907 | dice_neg: nan | dice_pos: 0.6907\n",
      "Epoch    13: reducing learning rate of group 0 to 5.0000e-07.\n",
      "\n",
      "Starting epoch: 13 | phase: train | ⏰: 22:41:03\n"
     ]
    },
    {
     "name": "stderr",
     "output_type": "stream",
     "text": [
      "100%|██████████| 334/334 [07:55<00:00,  1.42s/it]\n",
      "  0%|          | 0/84 [00:00<?, ?it/s]"
     ]
    },
    {
     "name": "stdout",
     "output_type": "stream",
     "text": [
      "Loss: 0.0058 | IoU: 0.7629 | dice: 0.8552 | dice_neg: nan | dice_pos: 0.8552\n",
      "Starting epoch: 13 | phase: val | ⏰: 22:48:58\n"
     ]
    },
    {
     "name": "stderr",
     "output_type": "stream",
     "text": [
      "100%|██████████| 84/84 [01:01<00:00,  1.37it/s]\n",
      "  0%|          | 0/334 [00:00<?, ?it/s]"
     ]
    },
    {
     "name": "stdout",
     "output_type": "stream",
     "text": [
      "Loss: 0.0257 | IoU: 0.5621 | dice: 0.6883 | dice_neg: nan | dice_pos: 0.6883\n",
      "\n",
      "Starting epoch: 14 | phase: train | ⏰: 22:49:59\n"
     ]
    },
    {
     "name": "stderr",
     "output_type": "stream",
     "text": [
      "100%|██████████| 334/334 [08:09<00:00,  1.47s/it]\n",
      "  0%|          | 0/84 [00:00<?, ?it/s]"
     ]
    },
    {
     "name": "stdout",
     "output_type": "stream",
     "text": [
      "Loss: 0.0058 | IoU: 0.7633 | dice: 0.8559 | dice_neg: nan | dice_pos: 0.8559\n",
      "Starting epoch: 14 | phase: val | ⏰: 22:58:09\n"
     ]
    },
    {
     "name": "stderr",
     "output_type": "stream",
     "text": [
      "100%|██████████| 84/84 [00:59<00:00,  1.40it/s]\n",
      "  0%|          | 0/334 [00:00<?, ?it/s]"
     ]
    },
    {
     "name": "stdout",
     "output_type": "stream",
     "text": [
      "Loss: 0.0253 | IoU: 0.5621 | dice: 0.6884 | dice_neg: nan | dice_pos: 0.6884\n",
      "\n",
      "Starting epoch: 15 | phase: train | ⏰: 22:59:09\n"
     ]
    },
    {
     "name": "stderr",
     "output_type": "stream",
     "text": [
      "100%|██████████| 334/334 [08:04<00:00,  1.45s/it]\n",
      "  0%|          | 0/84 [00:00<?, ?it/s]"
     ]
    },
    {
     "name": "stdout",
     "output_type": "stream",
     "text": [
      "Loss: 0.0057 | IoU: 0.7634 | dice: 0.8558 | dice_neg: nan | dice_pos: 0.8558\n",
      "Starting epoch: 15 | phase: val | ⏰: 23:07:13\n"
     ]
    },
    {
     "name": "stderr",
     "output_type": "stream",
     "text": [
      "100%|██████████| 84/84 [01:00<00:00,  1.39it/s]\n",
      "  0%|          | 0/334 [00:00<?, ?it/s]"
     ]
    },
    {
     "name": "stdout",
     "output_type": "stream",
     "text": [
      "Loss: 0.0259 | IoU: 0.5579 | dice: 0.6861 | dice_neg: nan | dice_pos: 0.6861\n",
      "\n",
      "Starting epoch: 16 | phase: train | ⏰: 23:08:14\n"
     ]
    },
    {
     "name": "stderr",
     "output_type": "stream",
     "text": [
      "100%|██████████| 334/334 [08:12<00:00,  1.47s/it]\n",
      "  0%|          | 0/84 [00:00<?, ?it/s]"
     ]
    },
    {
     "name": "stdout",
     "output_type": "stream",
     "text": [
      "Loss: 0.0058 | IoU: 0.7625 | dice: 0.8553 | dice_neg: nan | dice_pos: 0.8553\n",
      "Starting epoch: 16 | phase: val | ⏰: 23:16:26\n"
     ]
    },
    {
     "name": "stderr",
     "output_type": "stream",
     "text": [
      "100%|██████████| 84/84 [01:00<00:00,  1.39it/s]\n",
      "  0%|          | 0/334 [00:00<?, ?it/s]"
     ]
    },
    {
     "name": "stdout",
     "output_type": "stream",
     "text": [
      "Loss: 0.0260 | IoU: 0.5590 | dice: 0.6852 | dice_neg: nan | dice_pos: 0.6852\n",
      "Epoch    17: reducing learning rate of group 0 to 5.0000e-08.\n",
      "\n",
      "Starting epoch: 17 | phase: train | ⏰: 23:17:27\n"
     ]
    },
    {
     "name": "stderr",
     "output_type": "stream",
     "text": [
      "100%|██████████| 334/334 [07:59<00:00,  1.43s/it]\n",
      "  0%|          | 0/84 [00:00<?, ?it/s]"
     ]
    },
    {
     "name": "stdout",
     "output_type": "stream",
     "text": [
      "Loss: 0.0057 | IoU: 0.7641 | dice: 0.8566 | dice_neg: nan | dice_pos: 0.8566\n",
      "Starting epoch: 17 | phase: val | ⏰: 23:25:26\n"
     ]
    },
    {
     "name": "stderr",
     "output_type": "stream",
     "text": [
      "100%|██████████| 84/84 [01:00<00:00,  1.40it/s]\n",
      "  0%|          | 0/334 [00:00<?, ?it/s]"
     ]
    },
    {
     "name": "stdout",
     "output_type": "stream",
     "text": [
      "Loss: 0.0256 | IoU: 0.5595 | dice: 0.6881 | dice_neg: nan | dice_pos: 0.6881\n",
      "\n",
      "Starting epoch: 18 | phase: train | ⏰: 23:26:26\n"
     ]
    },
    {
     "name": "stderr",
     "output_type": "stream",
     "text": [
      "100%|██████████| 334/334 [08:12<00:00,  1.48s/it]\n",
      "  0%|          | 0/84 [00:00<?, ?it/s]"
     ]
    },
    {
     "name": "stdout",
     "output_type": "stream",
     "text": [
      "Loss: 0.0057 | IoU: 0.7649 | dice: 0.8575 | dice_neg: nan | dice_pos: 0.8575\n",
      "Starting epoch: 18 | phase: val | ⏰: 23:34:39\n"
     ]
    },
    {
     "name": "stderr",
     "output_type": "stream",
     "text": [
      "100%|██████████| 84/84 [01:00<00:00,  1.39it/s]\n",
      "  0%|          | 0/334 [00:00<?, ?it/s]"
     ]
    },
    {
     "name": "stdout",
     "output_type": "stream",
     "text": [
      "Loss: 0.0258 | IoU: 0.5582 | dice: 0.6849 | dice_neg: nan | dice_pos: 0.6849\n",
      "\n",
      "Starting epoch: 19 | phase: train | ⏰: 23:35:40\n"
     ]
    },
    {
     "name": "stderr",
     "output_type": "stream",
     "text": [
      "100%|██████████| 334/334 [08:12<00:00,  1.47s/it]\n",
      "  0%|          | 0/84 [00:00<?, ?it/s]"
     ]
    },
    {
     "name": "stdout",
     "output_type": "stream",
     "text": [
      "Loss: 0.0057 | IoU: 0.7637 | dice: 0.8560 | dice_neg: nan | dice_pos: 0.8560\n",
      "Starting epoch: 19 | phase: val | ⏰: 23:43:52\n"
     ]
    },
    {
     "name": "stderr",
     "output_type": "stream",
     "text": [
      "100%|██████████| 84/84 [01:00<00:00,  1.39it/s]"
     ]
    },
    {
     "name": "stdout",
     "output_type": "stream",
     "text": [
      "Loss: 0.0263 | IoU: 0.5528 | dice: 0.6792 | dice_neg: nan | dice_pos: 0.6792\n",
      "\n"
     ]
    },
    {
     "name": "stderr",
     "output_type": "stream",
     "text": [
      "\n"
     ]
    }
   ],
   "source": [
    "model_trainer = Trainer(model)\n",
    "model_trainer.start()"
   ]
  },
  {
   "cell_type": "code",
   "execution_count": 14,
   "metadata": {},
   "outputs": [
    {
     "data": {
      "image/png": "[encoded data removed]",
      "text/plain": [
       "<Figure size 1080x360 with 1 Axes>"
      ]
     },
     "metadata": {
      "needs_background": "light"
     },
     "output_type": "display_data"
    },
    {
     "data": {
      "image/png": "[encoded data removed]",
      "text/plain": [
       "<Figure size 1080x360 with 1 Axes>"
      ]
     },
     "metadata": {
      "needs_background": "light"
     },
     "output_type": "display_data"
    },
    {
     "data": {
      "image/png": "[encoded data removed]",
      "text/plain": [
       "<Figure size 1080x360 with 1 Axes>"
      ]
     },
     "metadata": {
      "needs_background": "light"
     },
     "output_type": "display_data"
    },
    {
     "name": "stdout",
     "output_type": "stream",
     "text": [
      "{'train': [0.010476538827810102, 0.009483703819220651, 0.011053062009229186, 0.008825001044723089, 0.008176409786505747, 0.007182499154716239, 0.006626214834158783, 0.006379393013723997, 0.006139422422498019, 0.005997162775142107, 0.00584102394812166, 0.005827279783043631, 0.005776119407985783, 0.0057576316357227765, 0.005758810538832032, 0.005746003516397612, 0.005774449050973008, 0.005729876430760957, 0.005747927069764383, 0.005744588245570794], 'val': [0.02156070798325042, 0.02478489338509029, 0.02380195441877558, 0.02349534315899724, 0.023948717906716325, 0.02325894416952949, 0.023478656153505046, 0.024710920084977432, 0.025374036188059973, 0.02572740993595549, 0.026000348191397887, 0.025445579429201427, 0.025660954077639395, 0.02570622487525855, 0.025347466663723544, 0.02586356474507955, 0.026015804215733494, 0.025629776518880612, 0.025825201012637643, 0.02633462334606087]}\n",
      "{'train': [0.7619356594364817, 0.7771962609619658, 0.7559239450043129, 0.7899113847840132, 0.8068893677327085, 0.8298738582434139, 0.8394632979158554, 0.8439807909375248, 0.8481408177175617, 0.852635690545564, 0.8534972657859486, 0.8545201810060065, 0.8555190396283467, 0.8552249529093661, 0.8559349111782476, 0.855835452363166, 0.8553446467388742, 0.8566075165033625, 0.8575294306584276, 0.8559538514481889], 'val': [0.6570881389532129, 0.662847384474641, 0.653181793201349, 0.6781960623677418, 0.6689099883620531, 0.6766262080969297, 0.6850752287915722, 0.6882286554170933, 0.6871857844885492, 0.6808268577524537, 0.6884815984145868, 0.6886706729018097, 0.6907348480062333, 0.688318675513431, 0.6884448613557473, 0.6860592794891536, 0.6851789939698639, 0.688149390828578, 0.6849308829711437, 0.6792488229548981]}\n",
      "{'train': [0.6467228534564246, 0.6648977018793503, 0.6405794723003273, 0.6807126726833377, 0.6990587476217385, 0.7280535434376627, 0.74108321773682, 0.7474916007160166, 0.7528758758437378, 0.759009726717862, 0.7604739245512351, 0.7616272828731527, 0.7629798182346911, 0.7628616103592525, 0.7632869620337537, 0.7633865313287757, 0.7625421411353646, 0.7641297378739605, 0.7649452588661878, 0.7637015912104196], 'val': [0.533899054081361, 0.5384239586567776, 0.5295683260548948, 0.5514142326846153, 0.5425599547051887, 0.5512592847006169, 0.558028990568519, 0.5608099497437223, 0.5600553787792532, 0.5557401550385935, 0.5615141629392763, 0.562253162786188, 0.5633387605267919, 0.5620551084000011, 0.5621317477750536, 0.557864006828313, 0.5590418104861361, 0.559514122103372, 0.5581833752521178, 0.5528327074985133]}\n"
     ]
    }
   ],
   "source": [
    "# PLOT TRAINING\n",
    "losses = model_trainer.losses\n",
    "dice_scores = model_trainer.dice_scores # overall dice\n",
    "iou_scores = model_trainer.iou_scores\n",
    "\n",
    "def plot(scores, name):\n",
    "    plt.figure(figsize=(15,5))\n",
    "    plt.plot(range(len(scores[\"train\"])), scores[\"train\"], label=f'train {name}')\n",
    "    plt.plot(range(len(scores[\"train\"])), scores[\"val\"], label=f'val {name}')\n",
    "    plt.title(f'{name} plot'); plt.xlabel('Epoch'); plt.ylabel(f'{name}');\n",
    "    plt.legend(); \n",
    "    plt.show()\n",
    "\n",
    "plot(losses, \"BCE loss\")\n",
    "plot(dice_scores, \"Dice score\")\n",
    "plot(iou_scores, \"IoU score\")\n",
    "\n",
    "print(losses)\n",
    "print(dice_scores)\n",
    "print(iou_scores)"
   ]
  },
  {
   "cell_type": "markdown",
   "metadata": {},
   "source": [
    "## Test prediction and submission"
   ]
  },
  {
   "cell_type": "markdown",
   "metadata": {},
   "source": [
    "This training and validation takes about ~400 minutes which exceeds Kaggle's GPU usage limit of 60 minutes, we won't be able to submit the `submission.csv` file generated from this kernel. So, for test prediction and submission I've written a separate [UNet inference kernel](https://www.kaggle.com/rishabhiitbhu/unet-pytorch-inference-kernel), make sure you add the `model.pth` file generated from this kernel as dataset to test inference kernel."
   ]
  },
  {
   "cell_type": "markdown",
   "metadata": {},
   "source": [
    "I've used resnet-18 architecture in this kernel. It scores ~0.89 on LB. Try to play around with other architectures of `segmenation_models.pytorch` and see what works best for you, let me know in the comments :) and do upvote if you liked this kernel, I need some medals too. 😬"
   ]
  },
  {
   "cell_type": "markdown",
   "metadata": {},
   "source": [
    "## Refrences:\n",
    "\n",
    "Few kernels from which I've borrowed some cod[](http://)e:\n",
    "\n",
    "* https://www.kaggle.com/amanooo/defect-detection-starter-u-net\n",
    "* https://www.kaggle.com/go1dfish/clear-mask-visualization-and-simple-eda\n",
    "\n",
    "A big thank you to all those who share their code on Kaggle, I'm nobody without you guys. I've learnt a lot from fellow kagglers, special shout-out to [@Abhishek](https://www.kaggle.com/abhishek), [@Yury](https://www.kaggle.com/deyury), [@Heng](https://www.kaggle.com/hengck23), [@Ekhtiar](https://www.kaggle.com/ekhtiar), [@lafoss](https://www.kaggle.com/iafoss), [@Siddhartha](https://www.kaggle.com/meaninglesslives), [@xhulu](https://www.kaggle.com/xhlulu), and the list goes on.."
   ]
  },
  {
   "cell_type": "code",
   "execution_count": null,
   "metadata": {},
   "outputs": [],
   "source": []
  }
 ],
 "metadata": {
  "kernelspec": {
   "display_name": "Environment (conda_pytorch_latest_p37)",
   "language": "python",
   "name": "conda_pytorch_latest_p37"
  },
  "language_info": {
   "codemirror_mode": {
    "name": "ipython",
    "version": 3
   },
   "file_extension": ".py",
   "mimetype": "text/x-python",
   "name": "python",
   "nbconvert_exporter": "python",
   "pygments_lexer": "ipython3",
   "version": "3.7.10"
  }
 },
 "nbformat": 4,
 "nbformat_minor": 4
}
